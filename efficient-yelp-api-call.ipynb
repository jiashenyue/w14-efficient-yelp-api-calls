{
 "cells": [
  {
   "cell_type": "markdown",
   "metadata": {
    "id": "8guYh-VR7nlX"
   },
   "source": [
    "# Part 1 - Extracting and Saving Data from Yelp API"
   ]
  },
  {
   "cell_type": "markdown",
   "metadata": {},
   "source": [
    "## Obective"
   ]
  },
  {
   "cell_type": "markdown",
   "metadata": {
    "id": "8guYh-VR7nlX"
   },
   "source": [
    "- For this CodeAlong, we will be working with the Yelp API. \n",
    "- You will use the the Yelp API to search your home town for a cuisine type of your choice.\n",
    "- Next class, we will then use Plotly Express to create a map with the Mapbox API to visualize the results.\n",
    "    \n",
    "    "
   ]
  },
  {
   "cell_type": "markdown",
   "metadata": {
    "id": "8guYh-VR7nlX"
   },
   "source": [
    "## Tools You Will Use\n",
    "- Part 1:\n",
    "    - Yelp API:\n",
    "        - Getting Started: \n",
    "            - https://www.yelp.com/developers/documentation/v3/get_started\n",
    "\n",
    "    - `YelpAPI` python package\n",
    "        -  \"YelpAPI\": https://github.com/gfairchild/yelpapi\n",
    "- Part 2:\n",
    "\n",
    "    - Plotly Express: https://plotly.com/python/getting-started/\n",
    "        - With Mapbox API: https://www.mapbox.com/\n",
    "        - `px.scatter_mapbox` [Documentation](https://plotly.com/python/scattermapbox/): \n",
    "\n",
    "\n"
   ]
  },
  {
   "cell_type": "markdown",
   "metadata": {},
   "source": [
    "### Applying Code From\n",
    "- Efficient API Calls Lesson Link: https://login.codingdojo.com/m/376/12529/88078"
   ]
  },
  {
   "cell_type": "code",
   "execution_count": 2,
   "metadata": {},
   "outputs": [
    {
     "name": "stdout",
     "output_type": "stream",
     "text": [
      "Collecting yelpapi\n",
      "  Downloading yelpapi-2.5.0-py3-none-any.whl (7.4 kB)\n",
      "Requirement already satisfied: requests in /Users/Shenyue/opt/anaconda3/envs/dojo-env/lib/python3.9/site-packages (from yelpapi) (2.28.1)\n",
      "Requirement already satisfied: urllib3<1.27,>=1.21.1 in /Users/Shenyue/opt/anaconda3/envs/dojo-env/lib/python3.9/site-packages (from requests->yelpapi) (1.26.13)\n",
      "Requirement already satisfied: certifi>=2017.4.17 in /Users/Shenyue/opt/anaconda3/envs/dojo-env/lib/python3.9/site-packages (from requests->yelpapi) (2022.9.24)\n",
      "Requirement already satisfied: charset-normalizer<3,>=2 in /Users/Shenyue/opt/anaconda3/envs/dojo-env/lib/python3.9/site-packages (from requests->yelpapi) (2.0.4)\n",
      "Requirement already satisfied: idna<4,>=2.5 in /Users/Shenyue/opt/anaconda3/envs/dojo-env/lib/python3.9/site-packages (from requests->yelpapi) (3.4)\n",
      "Installing collected packages: yelpapi\n",
      "Successfully installed yelpapi-2.5.0\n"
     ]
    }
   ],
   "source": [
    "!pip install yelpapi"
   ]
  },
  {
   "cell_type": "code",
   "execution_count": 3,
   "metadata": {},
   "outputs": [],
   "source": [
    "# Standard Imports\n",
    "import numpy as np\n",
    "import pandas as pd\n",
    "import matplotlib.pyplot as plt\n",
    "import seaborn as sns\n",
    "\n",
    "# Additional Imports\n",
    "import os, json, math, time\n",
    "from yelpapi import YelpAPI\n",
    "from tqdm.notebook import tqdm_notebook"
   ]
  },
  {
   "cell_type": "markdown",
   "metadata": {
    "id": "1l3Z-79nBSX9"
   },
   "source": [
    "## 1. Registering for Required APIs"
   ]
  },
  {
   "cell_type": "markdown",
   "metadata": {
    "id": "1l3Z-79nBSX9"
   },
   "source": [
    "\n",
    "- Yelp: https://www.yelp.com/developers/documentation/v3/get_started\n"
   ]
  },
  {
   "cell_type": "markdown",
   "metadata": {},
   "source": [
    "> Check the official API documentation to know what arguments we can search for: https://www.yelp.com/developers/documentation/v3/business_search"
   ]
  },
  {
   "cell_type": "markdown",
   "metadata": {},
   "source": [
    "### Load Credentials and Create Yelp API Object"
   ]
  },
  {
   "cell_type": "code",
   "execution_count": 4,
   "metadata": {
    "ExecuteTime": {
     "end_time": "2022-03-25T18:20:46.629934Z",
     "start_time": "2022-03-25T18:20:45.915864Z"
    },
    "colab": {
     "base_uri": "https://localhost:8080/"
    },
    "id": "xJYqVvNkE36a",
    "outputId": "67798160-dea2-41fc-9040-2b3833efa560"
   },
   "outputs": [],
   "source": [
    "# Load API Credentials\n",
    "with open('/Users/Shenyue/.secret/yelp.api.json','r') as f:\n",
    "    login = json.load(f)"
   ]
  },
  {
   "cell_type": "code",
   "execution_count": 5,
   "metadata": {},
   "outputs": [
    {
     "data": {
      "text/plain": [
       "dict_keys(['Client-ID', 'API Key'])"
      ]
     },
     "execution_count": 5,
     "metadata": {},
     "output_type": "execute_result"
    }
   ],
   "source": [
    "login.keys()"
   ]
  },
  {
   "cell_type": "code",
   "execution_count": 6,
   "metadata": {},
   "outputs": [],
   "source": [
    "# Instantiate YelpAPI Variable\n",
    "yelp = YelpAPI(login['API Key'], timeout_s = 5.0)"
   ]
  },
  {
   "cell_type": "markdown",
   "metadata": {},
   "source": [
    "### Define Search Terms and File Paths"
   ]
  },
  {
   "cell_type": "code",
   "execution_count": 11,
   "metadata": {},
   "outputs": [],
   "source": [
    "# set our API call parameters and filename before the first call\n",
    "location = 'Los Angeles, CA 90012'\n",
    "term = 'pizza'"
   ]
  },
  {
   "cell_type": "code",
   "execution_count": 12,
   "metadata": {},
   "outputs": [
    {
     "data": {
      "text/plain": [
       "'Los Angeles'"
      ]
     },
     "execution_count": 12,
     "metadata": {},
     "output_type": "execute_result"
    }
   ],
   "source": [
    "location.split(',')[0]"
   ]
  },
  {
   "cell_type": "code",
   "execution_count": 13,
   "metadata": {},
   "outputs": [
    {
     "data": {
      "text/plain": [
       "'Data/Los Angeles=pizza.json'"
      ]
     },
     "execution_count": 13,
     "metadata": {},
     "output_type": "execute_result"
    }
   ],
   "source": [
    "## Specify fodler for saving data\n",
    "FOLDER = 'Data/'\n",
    "os.makedirs(FOLDER,exist_ok = True)\n",
    "\n",
    "# Specifying JSON_FILE filename (can include a folder)\n",
    "JSON_FILE = FOLDER+f\"{location.split(',')[0]}={term}.json\"\n",
    "JSON_FILE"
   ]
  },
  {
   "cell_type": "markdown",
   "metadata": {},
   "source": [
    "### Check if Json File exists and Create it if it doesn't"
   ]
  },
  {
   "cell_type": "code",
   "execution_count": 16,
   "metadata": {},
   "outputs": [
    {
     "name": "stdout",
     "output_type": "stream",
     "text": [
      "\n"
     ]
    }
   ],
   "source": [
    "## Check if JSON_FILE exists\n",
    "file_exists = os.path.isfile(JSON_FILE)\n",
    "## If it does not exist: \n",
    "if file_exists == False:    \n",
    "    ## CREATE ANY NEEDED FOLDERS\n",
    "    # Get the Folder Name only\n",
    "    folder = os.path.dirname(JSON_FILE)\n",
    "    \n",
    "    ## If JSON_FILE included a folder:\n",
    "    if len(folder)>0:\n",
    "        # create the folder\n",
    "        os.makedirs(folder,exist_ok = True)\n",
    "        \n",
    "        \n",
    "    ## INFORM USER AND SAVE EMPTY LIST\n",
    "    print('')\n",
    "    \n",
    "    \n",
    "    ## save the first page of results\n",
    "    with open(JSON_FILE,'w') as f:\n",
    "        json.dump([],f)\n",
    "        \n",
    "## If it exists, inform user\n",
    "else:\n",
    "    print(f\"[i] {JSON_FILE} already exists.\")"
   ]
  },
  {
   "cell_type": "markdown",
   "metadata": {},
   "source": [
    "### Load JSON FIle and account for previous results"
   ]
  },
  {
   "cell_type": "code",
   "execution_count": null,
   "metadata": {},
   "outputs": [],
   "source": [
    "## Load previous results and use len of results for offset\n",
    "\n",
    "## set offset based on previous results\n"
   ]
  },
  {
   "cell_type": "markdown",
   "metadata": {},
   "source": [
    "### Make the first API call to get the first page of data"
   ]
  },
  {
   "cell_type": "markdown",
   "metadata": {},
   "source": [
    "- We will use this first result to check:\n",
    "    - how many total results there are?\n",
    "    - Where is the actual data we want to save?\n",
    "    - how many results do we get at a time?\n"
   ]
  },
  {
   "cell_type": "code",
   "execution_count": 17,
   "metadata": {},
   "outputs": [],
   "source": [
    "# use our yelp_api variable's search_query method to perform our API call\n",
    "results = yelp.search_query(term=term,location = location)"
   ]
  },
  {
   "cell_type": "code",
   "execution_count": 18,
   "metadata": {},
   "outputs": [
    {
     "data": {
      "text/plain": [
       "dict"
      ]
     },
     "execution_count": 18,
     "metadata": {},
     "output_type": "execute_result"
    }
   ],
   "source": [
    "type(results)"
   ]
  },
  {
   "cell_type": "code",
   "execution_count": 19,
   "metadata": {},
   "outputs": [
    {
     "data": {
      "text/plain": [
       "dict_keys(['businesses', 'total', 'region'])"
      ]
     },
     "execution_count": 19,
     "metadata": {},
     "output_type": "execute_result"
    }
   ],
   "source": [
    "results.keys()"
   ]
  },
  {
   "cell_type": "code",
   "execution_count": 29,
   "metadata": {},
   "outputs": [
    {
     "data": {
      "text/html": [
       "<div>\n",
       "<style scoped>\n",
       "    .dataframe tbody tr th:only-of-type {\n",
       "        vertical-align: middle;\n",
       "    }\n",
       "\n",
       "    .dataframe tbody tr th {\n",
       "        vertical-align: top;\n",
       "    }\n",
       "\n",
       "    .dataframe thead th {\n",
       "        text-align: right;\n",
       "    }\n",
       "</style>\n",
       "<table border=\"1\" class=\"dataframe\">\n",
       "  <thead>\n",
       "    <tr style=\"text-align: right;\">\n",
       "      <th></th>\n",
       "      <th>id</th>\n",
       "      <th>alias</th>\n",
       "      <th>name</th>\n",
       "      <th>image_url</th>\n",
       "      <th>is_closed</th>\n",
       "      <th>url</th>\n",
       "      <th>review_count</th>\n",
       "      <th>categories</th>\n",
       "      <th>rating</th>\n",
       "      <th>coordinates</th>\n",
       "      <th>transactions</th>\n",
       "      <th>location</th>\n",
       "      <th>phone</th>\n",
       "      <th>display_phone</th>\n",
       "      <th>distance</th>\n",
       "      <th>price</th>\n",
       "    </tr>\n",
       "  </thead>\n",
       "  <tbody>\n",
       "    <tr>\n",
       "      <th>0</th>\n",
       "      <td>J7XaREYBkIiRlK2rnHNDXQ</td>\n",
       "      <td>prince-street-pizza-los-angeles</td>\n",
       "      <td>Prince Street Pizza</td>\n",
       "      <td>https://s3-media1.fl.yelpcdn.com/bphoto/C9WMXJ...</td>\n",
       "      <td>False</td>\n",
       "      <td>https://www.yelp.com/biz/prince-street-pizza-l...</td>\n",
       "      <td>443</td>\n",
       "      <td>[{'alias': 'pizza', 'title': 'Pizza'}]</td>\n",
       "      <td>4.5</td>\n",
       "      <td>{'latitude': 34.04603290456726, 'longitude': -...</td>\n",
       "      <td>[]</td>\n",
       "      <td>{'address1': '827 E 3rd St', 'address2': '', '...</td>\n",
       "      <td>+12136007080</td>\n",
       "      <td>(213) 600-7080</td>\n",
       "      <td>2406.795708</td>\n",
       "      <td>NaN</td>\n",
       "    </tr>\n",
       "    <tr>\n",
       "      <th>1</th>\n",
       "      <td>AY8wsfDzLjW7PECps9_47g</td>\n",
       "      <td>pablito-s-pizza-los-angeles-2</td>\n",
       "      <td>Pablito’s pizza</td>\n",
       "      <td>https://s3-media1.fl.yelpcdn.com/bphoto/t-azZ3...</td>\n",
       "      <td>False</td>\n",
       "      <td>https://www.yelp.com/biz/pablito-s-pizza-los-a...</td>\n",
       "      <td>8</td>\n",
       "      <td>[{'alias': 'pizza', 'title': 'Pizza'}, {'alias...</td>\n",
       "      <td>5.0</td>\n",
       "      <td>{'latitude': 34.05953, 'longitude': -118.23786}</td>\n",
       "      <td>[]</td>\n",
       "      <td>{'address1': '686 N Spring St', 'address2': No...</td>\n",
       "      <td>+12133725898</td>\n",
       "      <td>(213) 372-5898</td>\n",
       "      <td>895.882565</td>\n",
       "      <td>NaN</td>\n",
       "    </tr>\n",
       "    <tr>\n",
       "      <th>2</th>\n",
       "      <td>T1RfgUMYKW3HD55SEJILbQ</td>\n",
       "      <td>braazo-pizza-los-angeles</td>\n",
       "      <td>Braazo Pizza</td>\n",
       "      <td>https://s3-media2.fl.yelpcdn.com/bphoto/xGepxZ...</td>\n",
       "      <td>False</td>\n",
       "      <td>https://www.yelp.com/biz/braazo-pizza-los-ange...</td>\n",
       "      <td>888</td>\n",
       "      <td>[{'alias': 'pizza', 'title': 'Pizza'}, {'alias...</td>\n",
       "      <td>4.5</td>\n",
       "      <td>{'latitude': 34.0438886, 'longitude': -118.251...</td>\n",
       "      <td>[pickup, delivery]</td>\n",
       "      <td>{'address1': '100 1/2 W 7th St', 'address2': '...</td>\n",
       "      <td>+12136223390</td>\n",
       "      <td>(213) 622-3390</td>\n",
       "      <td>2799.297179</td>\n",
       "      <td>$$</td>\n",
       "    </tr>\n",
       "    <tr>\n",
       "      <th>3</th>\n",
       "      <td>vNRmpcJzqBMK_piXswZZzg</td>\n",
       "      <td>quarter-sheets-pizza-club-los-angeles</td>\n",
       "      <td>Quarter Sheets Pizza Club</td>\n",
       "      <td>https://s3-media3.fl.yelpcdn.com/bphoto/DJuFR8...</td>\n",
       "      <td>False</td>\n",
       "      <td>https://www.yelp.com/biz/quarter-sheets-pizza-...</td>\n",
       "      <td>125</td>\n",
       "      <td>[{'alias': 'pizza', 'title': 'Pizza'}, {'alias...</td>\n",
       "      <td>4.5</td>\n",
       "      <td>{'latitude': 34.07572, 'longitude': -118.25436}</td>\n",
       "      <td>[]</td>\n",
       "      <td>{'address1': '1305 Portia St', 'address2': '',...</td>\n",
       "      <td></td>\n",
       "      <td></td>\n",
       "      <td>1601.626358</td>\n",
       "      <td>$$</td>\n",
       "    </tr>\n",
       "    <tr>\n",
       "      <th>4</th>\n",
       "      <td>cEKmsIDlKDtoGZhZV6zz-w</td>\n",
       "      <td>picasso-pie-wood-fire-pizza-los-angeles</td>\n",
       "      <td>Picasso Pie Wood Fire Pizza</td>\n",
       "      <td>https://s3-media4.fl.yelpcdn.com/bphoto/smr5OI...</td>\n",
       "      <td>False</td>\n",
       "      <td>https://www.yelp.com/biz/picasso-pie-wood-fire...</td>\n",
       "      <td>76</td>\n",
       "      <td>[{'alias': 'pizza', 'title': 'Pizza'}]</td>\n",
       "      <td>4.5</td>\n",
       "      <td>{'latitude': 34.06254, 'longitude': -118.24716}</td>\n",
       "      <td>[pickup, delivery]</td>\n",
       "      <td>{'address1': '505 N Figueroa St', 'address2': ...</td>\n",
       "      <td>+13103596969</td>\n",
       "      <td>(310) 359-6969</td>\n",
       "      <td>814.788633</td>\n",
       "      <td>$$</td>\n",
       "    </tr>\n",
       "    <tr>\n",
       "      <th>5</th>\n",
       "      <td>G_5uMbKvEWKarsxlm-VhqQ</td>\n",
       "      <td>prime-pizza-los-angeles-8</td>\n",
       "      <td>Prime Pizza</td>\n",
       "      <td>https://s3-media4.fl.yelpcdn.com/bphoto/qsrHK5...</td>\n",
       "      <td>False</td>\n",
       "      <td>https://www.yelp.com/biz/prime-pizza-los-angel...</td>\n",
       "      <td>387</td>\n",
       "      <td>[{'alias': 'pizza', 'title': 'Pizza'}, {'alias...</td>\n",
       "      <td>4.0</td>\n",
       "      <td>{'latitude': 34.04833, 'longitude': -118.23951}</td>\n",
       "      <td>[pickup, delivery]</td>\n",
       "      <td>{'address1': '141 S Central Ave', 'address2': ...</td>\n",
       "      <td>+12132560011</td>\n",
       "      <td>(213) 256-0011</td>\n",
       "      <td>2122.692378</td>\n",
       "      <td>$</td>\n",
       "    </tr>\n",
       "    <tr>\n",
       "      <th>6</th>\n",
       "      <td>CbW8U0QAwh5XRkaLt0xNZA</td>\n",
       "      <td>masa-of-echo-park-los-angeles</td>\n",
       "      <td>Masa of Echo Park</td>\n",
       "      <td>https://s3-media1.fl.yelpcdn.com/bphoto/5X32Ku...</td>\n",
       "      <td>False</td>\n",
       "      <td>https://www.yelp.com/biz/masa-of-echo-park-los...</td>\n",
       "      <td>4618</td>\n",
       "      <td>[{'alias': 'pizza', 'title': 'Pizza'}]</td>\n",
       "      <td>4.0</td>\n",
       "      <td>{'latitude': 34.077585, 'longitude': -118.259599}</td>\n",
       "      <td>[delivery]</td>\n",
       "      <td>{'address1': '1800 W Sunset Blvd', 'address2':...</td>\n",
       "      <td>+12139891558</td>\n",
       "      <td>(213) 989-1558</td>\n",
       "      <td>2109.017742</td>\n",
       "      <td>$$</td>\n",
       "    </tr>\n",
       "    <tr>\n",
       "      <th>7</th>\n",
       "      <td>q5e_Q4sMkQva7cW9xoLJgA</td>\n",
       "      <td>pizza-cafe-la-los-angeles-3</td>\n",
       "      <td>Pizza Cafe LA</td>\n",
       "      <td>https://s3-media4.fl.yelpcdn.com/bphoto/4JruZP...</td>\n",
       "      <td>False</td>\n",
       "      <td>https://www.yelp.com/biz/pizza-cafe-la-los-ang...</td>\n",
       "      <td>105</td>\n",
       "      <td>[{'alias': 'pizza', 'title': 'Pizza'}, {'alias...</td>\n",
       "      <td>5.0</td>\n",
       "      <td>{'latitude': 34.1046749, 'longitude': -118.258...</td>\n",
       "      <td>[pickup, delivery]</td>\n",
       "      <td>{'address1': '2320 Fletcher Dr', 'address2': '...</td>\n",
       "      <td>+13234076715</td>\n",
       "      <td>(323) 407-6715</td>\n",
       "      <td>4450.717168</td>\n",
       "      <td>NaN</td>\n",
       "    </tr>\n",
       "    <tr>\n",
       "      <th>8</th>\n",
       "      <td>tqolEK-wfz-B8GdYCTrB-g</td>\n",
       "      <td>pizzeria-bianco-dtla-los-angeles</td>\n",
       "      <td>Pizzeria Bianco DTLA</td>\n",
       "      <td>https://s3-media4.fl.yelpcdn.com/bphoto/DqN_s_...</td>\n",
       "      <td>False</td>\n",
       "      <td>https://www.yelp.com/biz/pizzeria-bianco-dtla-...</td>\n",
       "      <td>216</td>\n",
       "      <td>[{'alias': 'pizza', 'title': 'Pizza'}]</td>\n",
       "      <td>4.0</td>\n",
       "      <td>{'latitude': 34.03443366261439, 'longitude': -...</td>\n",
       "      <td>[]</td>\n",
       "      <td>{'address1': '1320 E 7th St', 'address2': 'Ste...</td>\n",
       "      <td>+12133725155</td>\n",
       "      <td>(213) 372-5155</td>\n",
       "      <td>3656.620980</td>\n",
       "      <td>NaN</td>\n",
       "    </tr>\n",
       "    <tr>\n",
       "      <th>9</th>\n",
       "      <td>__T8wnlRk82K7PMG3OYL7A</td>\n",
       "      <td>slasher-pizza-los-angeles</td>\n",
       "      <td>Slasher Pizza</td>\n",
       "      <td>https://s3-media2.fl.yelpcdn.com/bphoto/DqX8ck...</td>\n",
       "      <td>False</td>\n",
       "      <td>https://www.yelp.com/biz/slasher-pizza-los-ang...</td>\n",
       "      <td>190</td>\n",
       "      <td>[{'alias': 'pizza', 'title': 'Pizza'}]</td>\n",
       "      <td>4.5</td>\n",
       "      <td>{'latitude': 34.081632, 'longitude': -118.259825}</td>\n",
       "      <td>[pickup, delivery]</td>\n",
       "      <td>{'address1': '1466 Glendale Blvd', 'address2':...</td>\n",
       "      <td>+12132228203</td>\n",
       "      <td>(213) 222-8203</td>\n",
       "      <td>2400.034257</td>\n",
       "      <td>$$</td>\n",
       "    </tr>\n",
       "    <tr>\n",
       "      <th>10</th>\n",
       "      <td>ICTrXwuFczeXxHye7fQxlA</td>\n",
       "      <td>pizzanista-dtla-los-angeles-5</td>\n",
       "      <td>PIZZANISTA! DTLA</td>\n",
       "      <td>https://s3-media1.fl.yelpcdn.com/bphoto/pzc1ul...</td>\n",
       "      <td>False</td>\n",
       "      <td>https://www.yelp.com/biz/pizzanista-dtla-los-a...</td>\n",
       "      <td>1365</td>\n",
       "      <td>[{'alias': 'pizza', 'title': 'Pizza'}, {'alias...</td>\n",
       "      <td>4.0</td>\n",
       "      <td>{'latitude': 34.034836, 'longitude': -118.231605}</td>\n",
       "      <td>[delivery]</td>\n",
       "      <td>{'address1': '2019 E 7th St', 'address2': None...</td>\n",
       "      <td>+12136271430</td>\n",
       "      <td>(213) 627-1430</td>\n",
       "      <td>3699.281935</td>\n",
       "      <td>$</td>\n",
       "    </tr>\n",
       "    <tr>\n",
       "      <th>11</th>\n",
       "      <td>zDQm3hXszZOov-w6IAI31A</td>\n",
       "      <td>purgatory-pizza-los-angeles-2</td>\n",
       "      <td>Purgatory Pizza</td>\n",
       "      <td>https://s3-media3.fl.yelpcdn.com/bphoto/dFcXn6...</td>\n",
       "      <td>False</td>\n",
       "      <td>https://www.yelp.com/biz/purgatory-pizza-los-a...</td>\n",
       "      <td>1048</td>\n",
       "      <td>[{'alias': 'pizza', 'title': 'Pizza'}, {'alias...</td>\n",
       "      <td>4.0</td>\n",
       "      <td>{'latitude': 34.0475041, 'longitude': -118.225...</td>\n",
       "      <td>[pickup, delivery]</td>\n",
       "      <td>{'address1': '1326 E 1st St', 'address2': '', ...</td>\n",
       "      <td>+13232625310</td>\n",
       "      <td>(323) 262-5310</td>\n",
       "      <td>2594.851914</td>\n",
       "      <td>$$</td>\n",
       "    </tr>\n",
       "    <tr>\n",
       "      <th>12</th>\n",
       "      <td>i0RMTJR8xRD72hlc8VXrKQ</td>\n",
       "      <td>brooklyn-ave-pizza-co-los-angeles</td>\n",
       "      <td>Brooklyn Ave Pizza Co</td>\n",
       "      <td>https://s3-media3.fl.yelpcdn.com/bphoto/H_uk9u...</td>\n",
       "      <td>False</td>\n",
       "      <td>https://www.yelp.com/biz/brooklyn-ave-pizza-co...</td>\n",
       "      <td>237</td>\n",
       "      <td>[{'alias': 'pizza', 'title': 'Pizza'}, {'alias...</td>\n",
       "      <td>4.0</td>\n",
       "      <td>{'latitude': 34.04479886685899, 'longitude': -...</td>\n",
       "      <td>[]</td>\n",
       "      <td>{'address1': '2706 East Cesar E Chavez Ave', '...</td>\n",
       "      <td>+13239681106</td>\n",
       "      <td>(323) 968-1106</td>\n",
       "      <td>4183.572314</td>\n",
       "      <td>$$</td>\n",
       "    </tr>\n",
       "    <tr>\n",
       "      <th>13</th>\n",
       "      <td>uMLZ0gGjOqFjJJF_kNoccg</td>\n",
       "      <td>triple-beam-pizza-los-angeles-3</td>\n",
       "      <td>Triple Beam Pizza</td>\n",
       "      <td>https://s3-media2.fl.yelpcdn.com/bphoto/zukws2...</td>\n",
       "      <td>False</td>\n",
       "      <td>https://www.yelp.com/biz/triple-beam-pizza-los...</td>\n",
       "      <td>194</td>\n",
       "      <td>[{'alias': 'pizza', 'title': 'Pizza'}]</td>\n",
       "      <td>4.0</td>\n",
       "      <td>{'latitude': 34.077682, 'longitude': -118.2598...</td>\n",
       "      <td>[]</td>\n",
       "      <td>{'address1': '1818 W Sunset Blvd', 'address2':...</td>\n",
       "      <td>+12132819753</td>\n",
       "      <td>(213) 281-9753</td>\n",
       "      <td>2151.502272</td>\n",
       "      <td>$$</td>\n",
       "    </tr>\n",
       "    <tr>\n",
       "      <th>14</th>\n",
       "      <td>cxU5blDB5nnZIkn4amrf5A</td>\n",
       "      <td>grá-los-angeles-2</td>\n",
       "      <td>Grá</td>\n",
       "      <td>https://s3-media3.fl.yelpcdn.com/bphoto/F-O7SL...</td>\n",
       "      <td>False</td>\n",
       "      <td>https://www.yelp.com/biz/gr%C3%A1-los-angeles-...</td>\n",
       "      <td>188</td>\n",
       "      <td>[{'alias': 'pizza', 'title': 'Pizza'}, {'alias...</td>\n",
       "      <td>4.5</td>\n",
       "      <td>{'latitude': 34.066669, 'longitude': -118.260819}</td>\n",
       "      <td>[]</td>\n",
       "      <td>{'address1': '1524 Pizarro St', 'address2': No...</td>\n",
       "      <td></td>\n",
       "      <td></td>\n",
       "      <td>1885.167892</td>\n",
       "      <td>NaN</td>\n",
       "    </tr>\n",
       "    <tr>\n",
       "      <th>15</th>\n",
       "      <td>noi9XwfiBLsSr7CQwbLZIQ</td>\n",
       "      <td>doughbox-los-angeles-4</td>\n",
       "      <td>Doughbox</td>\n",
       "      <td>https://s3-media1.fl.yelpcdn.com/bphoto/lJfmeo...</td>\n",
       "      <td>False</td>\n",
       "      <td>https://www.yelp.com/biz/doughbox-los-angeles-...</td>\n",
       "      <td>609</td>\n",
       "      <td>[{'alias': 'pizza', 'title': 'Pizza'}]</td>\n",
       "      <td>4.5</td>\n",
       "      <td>{'latitude': 34.1089967, 'longitude': -118.194...</td>\n",
       "      <td>[pickup, delivery]</td>\n",
       "      <td>{'address1': '5567 North Figueroa St', 'addres...</td>\n",
       "      <td>+13233466811</td>\n",
       "      <td>(323) 346-6811</td>\n",
       "      <td>6269.134247</td>\n",
       "      <td>$$</td>\n",
       "    </tr>\n",
       "    <tr>\n",
       "      <th>16</th>\n",
       "      <td>gh4B1viUS0cIbMGmbbaJtA</td>\n",
       "      <td>de-la-nonna-los-angeles-3</td>\n",
       "      <td>De La Nonna</td>\n",
       "      <td>https://s3-media2.fl.yelpcdn.com/bphoto/zcxej8...</td>\n",
       "      <td>False</td>\n",
       "      <td>https://www.yelp.com/biz/de-la-nonna-los-angel...</td>\n",
       "      <td>274</td>\n",
       "      <td>[{'alias': 'pizza', 'title': 'Pizza'}]</td>\n",
       "      <td>4.0</td>\n",
       "      <td>{'latitude': 34.04502, 'longitude': -118.23749}</td>\n",
       "      <td>[]</td>\n",
       "      <td>{'address1': '710 E 4th Pl', 'address2': None,...</td>\n",
       "      <td>+12132211268</td>\n",
       "      <td>(213) 221-1268</td>\n",
       "      <td>2506.532977</td>\n",
       "      <td>$$</td>\n",
       "    </tr>\n",
       "    <tr>\n",
       "      <th>17</th>\n",
       "      <td>5_6Gn67IRK2AcHfwWjIARQ</td>\n",
       "      <td>cosa-buona-los-angeles-3</td>\n",
       "      <td>Cosa Buona</td>\n",
       "      <td>https://s3-media3.fl.yelpcdn.com/bphoto/r0Jct2...</td>\n",
       "      <td>False</td>\n",
       "      <td>https://www.yelp.com/biz/cosa-buona-los-angele...</td>\n",
       "      <td>398</td>\n",
       "      <td>[{'alias': 'pizza', 'title': 'Pizza'}, {'alias...</td>\n",
       "      <td>4.0</td>\n",
       "      <td>{'latitude': 34.07727, 'longitude': -118.26389}</td>\n",
       "      <td>[delivery]</td>\n",
       "      <td>{'address1': '2100 Sunset Blvd', 'address2': '...</td>\n",
       "      <td>+12139085211</td>\n",
       "      <td>(213) 908-5211</td>\n",
       "      <td>2442.518706</td>\n",
       "      <td>$$</td>\n",
       "    </tr>\n",
       "    <tr>\n",
       "      <th>18</th>\n",
       "      <td>0RqanI3u9-p3s3gEgVQP1g</td>\n",
       "      <td>danny-boys-famous-original-pizzeria-los-angeles</td>\n",
       "      <td>Danny Boy's Famous Original Pizzeria</td>\n",
       "      <td>https://s3-media2.fl.yelpcdn.com/bphoto/EZJJRt...</td>\n",
       "      <td>False</td>\n",
       "      <td>https://www.yelp.com/biz/danny-boys-famous-ori...</td>\n",
       "      <td>150</td>\n",
       "      <td>[{'alias': 'pizza', 'title': 'Pizza'}]</td>\n",
       "      <td>4.5</td>\n",
       "      <td>{'latitude': 34.05319, 'longitude': -118.25252}</td>\n",
       "      <td>[pickup, delivery]</td>\n",
       "      <td>{'address1': '330 S Hope St', 'address2': None...</td>\n",
       "      <td>+12137727664</td>\n",
       "      <td>(213) 772-7664</td>\n",
       "      <td>1958.333980</td>\n",
       "      <td>NaN</td>\n",
       "    </tr>\n",
       "    <tr>\n",
       "      <th>19</th>\n",
       "      <td>3bcwe6fXqraCf3vThCGrxw</td>\n",
       "      <td>elio-s-wood-fire-pizza-los-angeles</td>\n",
       "      <td>Elio’s Wood Fire Pizza</td>\n",
       "      <td>https://s3-media4.fl.yelpcdn.com/bphoto/7tUQom...</td>\n",
       "      <td>False</td>\n",
       "      <td>https://www.yelp.com/biz/elio-s-wood-fire-pizz...</td>\n",
       "      <td>221</td>\n",
       "      <td>[{'alias': 'pizza', 'title': 'Pizza'}, {'alias...</td>\n",
       "      <td>4.5</td>\n",
       "      <td>{'latitude': 34.080274, 'longitude': -118.269836}</td>\n",
       "      <td>[pickup]</td>\n",
       "      <td>{'address1': '2517 Sunset Blvd', 'address2': N...</td>\n",
       "      <td>+13236201431</td>\n",
       "      <td>(323) 620-1431</td>\n",
       "      <td>3067.124992</td>\n",
       "      <td>$$</td>\n",
       "    </tr>\n",
       "  </tbody>\n",
       "</table>\n",
       "</div>"
      ],
      "text/plain": [
       "                        id                                            alias  \\\n",
       "0   J7XaREYBkIiRlK2rnHNDXQ                  prince-street-pizza-los-angeles   \n",
       "1   AY8wsfDzLjW7PECps9_47g                    pablito-s-pizza-los-angeles-2   \n",
       "2   T1RfgUMYKW3HD55SEJILbQ                         braazo-pizza-los-angeles   \n",
       "3   vNRmpcJzqBMK_piXswZZzg            quarter-sheets-pizza-club-los-angeles   \n",
       "4   cEKmsIDlKDtoGZhZV6zz-w          picasso-pie-wood-fire-pizza-los-angeles   \n",
       "5   G_5uMbKvEWKarsxlm-VhqQ                        prime-pizza-los-angeles-8   \n",
       "6   CbW8U0QAwh5XRkaLt0xNZA                    masa-of-echo-park-los-angeles   \n",
       "7   q5e_Q4sMkQva7cW9xoLJgA                      pizza-cafe-la-los-angeles-3   \n",
       "8   tqolEK-wfz-B8GdYCTrB-g                 pizzeria-bianco-dtla-los-angeles   \n",
       "9   __T8wnlRk82K7PMG3OYL7A                        slasher-pizza-los-angeles   \n",
       "10  ICTrXwuFczeXxHye7fQxlA                    pizzanista-dtla-los-angeles-5   \n",
       "11  zDQm3hXszZOov-w6IAI31A                    purgatory-pizza-los-angeles-2   \n",
       "12  i0RMTJR8xRD72hlc8VXrKQ                brooklyn-ave-pizza-co-los-angeles   \n",
       "13  uMLZ0gGjOqFjJJF_kNoccg                  triple-beam-pizza-los-angeles-3   \n",
       "14  cxU5blDB5nnZIkn4amrf5A                                grá-los-angeles-2   \n",
       "15  noi9XwfiBLsSr7CQwbLZIQ                           doughbox-los-angeles-4   \n",
       "16  gh4B1viUS0cIbMGmbbaJtA                        de-la-nonna-los-angeles-3   \n",
       "17  5_6Gn67IRK2AcHfwWjIARQ                         cosa-buona-los-angeles-3   \n",
       "18  0RqanI3u9-p3s3gEgVQP1g  danny-boys-famous-original-pizzeria-los-angeles   \n",
       "19  3bcwe6fXqraCf3vThCGrxw               elio-s-wood-fire-pizza-los-angeles   \n",
       "\n",
       "                                    name  \\\n",
       "0                    Prince Street Pizza   \n",
       "1                        Pablito’s pizza   \n",
       "2                           Braazo Pizza   \n",
       "3              Quarter Sheets Pizza Club   \n",
       "4            Picasso Pie Wood Fire Pizza   \n",
       "5                            Prime Pizza   \n",
       "6                      Masa of Echo Park   \n",
       "7                          Pizza Cafe LA   \n",
       "8                   Pizzeria Bianco DTLA   \n",
       "9                          Slasher Pizza   \n",
       "10                      PIZZANISTA! DTLA   \n",
       "11                       Purgatory Pizza   \n",
       "12                 Brooklyn Ave Pizza Co   \n",
       "13                     Triple Beam Pizza   \n",
       "14                                   Grá   \n",
       "15                              Doughbox   \n",
       "16                           De La Nonna   \n",
       "17                            Cosa Buona   \n",
       "18  Danny Boy's Famous Original Pizzeria   \n",
       "19                Elio’s Wood Fire Pizza   \n",
       "\n",
       "                                            image_url  is_closed  \\\n",
       "0   https://s3-media1.fl.yelpcdn.com/bphoto/C9WMXJ...      False   \n",
       "1   https://s3-media1.fl.yelpcdn.com/bphoto/t-azZ3...      False   \n",
       "2   https://s3-media2.fl.yelpcdn.com/bphoto/xGepxZ...      False   \n",
       "3   https://s3-media3.fl.yelpcdn.com/bphoto/DJuFR8...      False   \n",
       "4   https://s3-media4.fl.yelpcdn.com/bphoto/smr5OI...      False   \n",
       "5   https://s3-media4.fl.yelpcdn.com/bphoto/qsrHK5...      False   \n",
       "6   https://s3-media1.fl.yelpcdn.com/bphoto/5X32Ku...      False   \n",
       "7   https://s3-media4.fl.yelpcdn.com/bphoto/4JruZP...      False   \n",
       "8   https://s3-media4.fl.yelpcdn.com/bphoto/DqN_s_...      False   \n",
       "9   https://s3-media2.fl.yelpcdn.com/bphoto/DqX8ck...      False   \n",
       "10  https://s3-media1.fl.yelpcdn.com/bphoto/pzc1ul...      False   \n",
       "11  https://s3-media3.fl.yelpcdn.com/bphoto/dFcXn6...      False   \n",
       "12  https://s3-media3.fl.yelpcdn.com/bphoto/H_uk9u...      False   \n",
       "13  https://s3-media2.fl.yelpcdn.com/bphoto/zukws2...      False   \n",
       "14  https://s3-media3.fl.yelpcdn.com/bphoto/F-O7SL...      False   \n",
       "15  https://s3-media1.fl.yelpcdn.com/bphoto/lJfmeo...      False   \n",
       "16  https://s3-media2.fl.yelpcdn.com/bphoto/zcxej8...      False   \n",
       "17  https://s3-media3.fl.yelpcdn.com/bphoto/r0Jct2...      False   \n",
       "18  https://s3-media2.fl.yelpcdn.com/bphoto/EZJJRt...      False   \n",
       "19  https://s3-media4.fl.yelpcdn.com/bphoto/7tUQom...      False   \n",
       "\n",
       "                                                  url  review_count  \\\n",
       "0   https://www.yelp.com/biz/prince-street-pizza-l...           443   \n",
       "1   https://www.yelp.com/biz/pablito-s-pizza-los-a...             8   \n",
       "2   https://www.yelp.com/biz/braazo-pizza-los-ange...           888   \n",
       "3   https://www.yelp.com/biz/quarter-sheets-pizza-...           125   \n",
       "4   https://www.yelp.com/biz/picasso-pie-wood-fire...            76   \n",
       "5   https://www.yelp.com/biz/prime-pizza-los-angel...           387   \n",
       "6   https://www.yelp.com/biz/masa-of-echo-park-los...          4618   \n",
       "7   https://www.yelp.com/biz/pizza-cafe-la-los-ang...           105   \n",
       "8   https://www.yelp.com/biz/pizzeria-bianco-dtla-...           216   \n",
       "9   https://www.yelp.com/biz/slasher-pizza-los-ang...           190   \n",
       "10  https://www.yelp.com/biz/pizzanista-dtla-los-a...          1365   \n",
       "11  https://www.yelp.com/biz/purgatory-pizza-los-a...          1048   \n",
       "12  https://www.yelp.com/biz/brooklyn-ave-pizza-co...           237   \n",
       "13  https://www.yelp.com/biz/triple-beam-pizza-los...           194   \n",
       "14  https://www.yelp.com/biz/gr%C3%A1-los-angeles-...           188   \n",
       "15  https://www.yelp.com/biz/doughbox-los-angeles-...           609   \n",
       "16  https://www.yelp.com/biz/de-la-nonna-los-angel...           274   \n",
       "17  https://www.yelp.com/biz/cosa-buona-los-angele...           398   \n",
       "18  https://www.yelp.com/biz/danny-boys-famous-ori...           150   \n",
       "19  https://www.yelp.com/biz/elio-s-wood-fire-pizz...           221   \n",
       "\n",
       "                                           categories  rating  \\\n",
       "0              [{'alias': 'pizza', 'title': 'Pizza'}]     4.5   \n",
       "1   [{'alias': 'pizza', 'title': 'Pizza'}, {'alias...     5.0   \n",
       "2   [{'alias': 'pizza', 'title': 'Pizza'}, {'alias...     4.5   \n",
       "3   [{'alias': 'pizza', 'title': 'Pizza'}, {'alias...     4.5   \n",
       "4              [{'alias': 'pizza', 'title': 'Pizza'}]     4.5   \n",
       "5   [{'alias': 'pizza', 'title': 'Pizza'}, {'alias...     4.0   \n",
       "6              [{'alias': 'pizza', 'title': 'Pizza'}]     4.0   \n",
       "7   [{'alias': 'pizza', 'title': 'Pizza'}, {'alias...     5.0   \n",
       "8              [{'alias': 'pizza', 'title': 'Pizza'}]     4.0   \n",
       "9              [{'alias': 'pizza', 'title': 'Pizza'}]     4.5   \n",
       "10  [{'alias': 'pizza', 'title': 'Pizza'}, {'alias...     4.0   \n",
       "11  [{'alias': 'pizza', 'title': 'Pizza'}, {'alias...     4.0   \n",
       "12  [{'alias': 'pizza', 'title': 'Pizza'}, {'alias...     4.0   \n",
       "13             [{'alias': 'pizza', 'title': 'Pizza'}]     4.0   \n",
       "14  [{'alias': 'pizza', 'title': 'Pizza'}, {'alias...     4.5   \n",
       "15             [{'alias': 'pizza', 'title': 'Pizza'}]     4.5   \n",
       "16             [{'alias': 'pizza', 'title': 'Pizza'}]     4.0   \n",
       "17  [{'alias': 'pizza', 'title': 'Pizza'}, {'alias...     4.0   \n",
       "18             [{'alias': 'pizza', 'title': 'Pizza'}]     4.5   \n",
       "19  [{'alias': 'pizza', 'title': 'Pizza'}, {'alias...     4.5   \n",
       "\n",
       "                                          coordinates        transactions  \\\n",
       "0   {'latitude': 34.04603290456726, 'longitude': -...                  []   \n",
       "1     {'latitude': 34.05953, 'longitude': -118.23786}                  []   \n",
       "2   {'latitude': 34.0438886, 'longitude': -118.251...  [pickup, delivery]   \n",
       "3     {'latitude': 34.07572, 'longitude': -118.25436}                  []   \n",
       "4     {'latitude': 34.06254, 'longitude': -118.24716}  [pickup, delivery]   \n",
       "5     {'latitude': 34.04833, 'longitude': -118.23951}  [pickup, delivery]   \n",
       "6   {'latitude': 34.077585, 'longitude': -118.259599}          [delivery]   \n",
       "7   {'latitude': 34.1046749, 'longitude': -118.258...  [pickup, delivery]   \n",
       "8   {'latitude': 34.03443366261439, 'longitude': -...                  []   \n",
       "9   {'latitude': 34.081632, 'longitude': -118.259825}  [pickup, delivery]   \n",
       "10  {'latitude': 34.034836, 'longitude': -118.231605}          [delivery]   \n",
       "11  {'latitude': 34.0475041, 'longitude': -118.225...  [pickup, delivery]   \n",
       "12  {'latitude': 34.04479886685899, 'longitude': -...                  []   \n",
       "13  {'latitude': 34.077682, 'longitude': -118.2598...                  []   \n",
       "14  {'latitude': 34.066669, 'longitude': -118.260819}                  []   \n",
       "15  {'latitude': 34.1089967, 'longitude': -118.194...  [pickup, delivery]   \n",
       "16    {'latitude': 34.04502, 'longitude': -118.23749}                  []   \n",
       "17    {'latitude': 34.07727, 'longitude': -118.26389}          [delivery]   \n",
       "18    {'latitude': 34.05319, 'longitude': -118.25252}  [pickup, delivery]   \n",
       "19  {'latitude': 34.080274, 'longitude': -118.269836}            [pickup]   \n",
       "\n",
       "                                             location         phone  \\\n",
       "0   {'address1': '827 E 3rd St', 'address2': '', '...  +12136007080   \n",
       "1   {'address1': '686 N Spring St', 'address2': No...  +12133725898   \n",
       "2   {'address1': '100 1/2 W 7th St', 'address2': '...  +12136223390   \n",
       "3   {'address1': '1305 Portia St', 'address2': '',...                 \n",
       "4   {'address1': '505 N Figueroa St', 'address2': ...  +13103596969   \n",
       "5   {'address1': '141 S Central Ave', 'address2': ...  +12132560011   \n",
       "6   {'address1': '1800 W Sunset Blvd', 'address2':...  +12139891558   \n",
       "7   {'address1': '2320 Fletcher Dr', 'address2': '...  +13234076715   \n",
       "8   {'address1': '1320 E 7th St', 'address2': 'Ste...  +12133725155   \n",
       "9   {'address1': '1466 Glendale Blvd', 'address2':...  +12132228203   \n",
       "10  {'address1': '2019 E 7th St', 'address2': None...  +12136271430   \n",
       "11  {'address1': '1326 E 1st St', 'address2': '', ...  +13232625310   \n",
       "12  {'address1': '2706 East Cesar E Chavez Ave', '...  +13239681106   \n",
       "13  {'address1': '1818 W Sunset Blvd', 'address2':...  +12132819753   \n",
       "14  {'address1': '1524 Pizarro St', 'address2': No...                 \n",
       "15  {'address1': '5567 North Figueroa St', 'addres...  +13233466811   \n",
       "16  {'address1': '710 E 4th Pl', 'address2': None,...  +12132211268   \n",
       "17  {'address1': '2100 Sunset Blvd', 'address2': '...  +12139085211   \n",
       "18  {'address1': '330 S Hope St', 'address2': None...  +12137727664   \n",
       "19  {'address1': '2517 Sunset Blvd', 'address2': N...  +13236201431   \n",
       "\n",
       "     display_phone     distance price  \n",
       "0   (213) 600-7080  2406.795708   NaN  \n",
       "1   (213) 372-5898   895.882565   NaN  \n",
       "2   (213) 622-3390  2799.297179    $$  \n",
       "3                   1601.626358    $$  \n",
       "4   (310) 359-6969   814.788633    $$  \n",
       "5   (213) 256-0011  2122.692378     $  \n",
       "6   (213) 989-1558  2109.017742    $$  \n",
       "7   (323) 407-6715  4450.717168   NaN  \n",
       "8   (213) 372-5155  3656.620980   NaN  \n",
       "9   (213) 222-8203  2400.034257    $$  \n",
       "10  (213) 627-1430  3699.281935     $  \n",
       "11  (323) 262-5310  2594.851914    $$  \n",
       "12  (323) 968-1106  4183.572314    $$  \n",
       "13  (213) 281-9753  2151.502272    $$  \n",
       "14                  1885.167892   NaN  \n",
       "15  (323) 346-6811  6269.134247    $$  \n",
       "16  (213) 221-1268  2506.532977    $$  \n",
       "17  (213) 908-5211  2442.518706    $$  \n",
       "18  (213) 772-7664  1958.333980   NaN  \n",
       "19  (323) 620-1431  3067.124992    $$  "
      ]
     },
     "execution_count": 29,
     "metadata": {},
     "output_type": "execute_result"
    }
   ],
   "source": [
    "df = pd.DataFrame(results['businesses'])\n",
    "df"
   ]
  },
  {
   "cell_type": "code",
   "execution_count": 27,
   "metadata": {
    "ExecuteTime": {
     "end_time": "2022-03-24T20:01:48.867510Z",
     "start_time": "2022-03-24T20:01:48.854746Z"
    },
    "colab": {
     "base_uri": "https://localhost:8080/"
    },
    "id": "Myur3i1KGhPf",
    "outputId": "f447c6f9-596b-41d0-ccda-50af0ce82108"
   },
   "outputs": [
    {
     "data": {
      "text/plain": [
       "528"
      ]
     },
     "execution_count": 27,
     "metadata": {},
     "output_type": "execute_result"
    }
   ],
   "source": [
    "## How many results total?\n",
    "results['total']"
   ]
  },
  {
   "cell_type": "markdown",
   "metadata": {},
   "source": [
    "- Where is the actual data we want to save?"
   ]
  },
  {
   "cell_type": "code",
   "execution_count": 31,
   "metadata": {},
   "outputs": [
    {
     "data": {
      "text/plain": [
       "20"
      ]
     },
     "execution_count": 31,
     "metadata": {},
     "output_type": "execute_result"
    }
   ],
   "source": [
    "## How many did we get the details for?\n",
    "results_per_page = len(results['businesses'])\n",
    "results_per_page"
   ]
  },
  {
   "cell_type": "markdown",
   "metadata": {},
   "source": [
    "- Calculate how many pages of results needed to cover the total_results"
   ]
  },
  {
   "cell_type": "code",
   "execution_count": 32,
   "metadata": {},
   "outputs": [
    {
     "data": {
      "text/plain": [
       "27"
      ]
     },
     "execution_count": 32,
     "metadata": {},
     "output_type": "execute_result"
    }
   ],
   "source": [
    "# Use math.ceil to round up for the total number of pages of results.\n",
    "import time,math\n",
    "n_pages = math.ceil(results['total']/results_per_page)\n",
    "n_pages"
   ]
  },
  {
   "cell_type": "code",
   "execution_count": 33,
   "metadata": {},
   "outputs": [
    {
     "data": {
      "application/vnd.jupyter.widget-view+json": {
       "model_id": "9fc32f599d574712b949bbf9822db1fb",
       "version_major": 2,
       "version_minor": 0
      },
      "text/plain": [
       "  0%|          | 0/27 [00:00<?, ?it/s]"
      ]
     },
     "metadata": {},
     "output_type": "display_data"
    }
   ],
   "source": [
    "for i in tqdm_notebook(range(1,n_pages+1)):\n",
    "    ## The block of code we want to TRY to run\n",
    "    try:\n",
    "        \n",
    "        time.sleep(.2)\n",
    "        \n",
    "        ## Read in results in progress file and check the length\n",
    "        with open(JSON_FILE) as f:\n",
    "            prev_results = json.load(f)\n",
    "\n",
    "        ## set offset based on previous results\n",
    "        n_results = len(prev_results)\n",
    "\n",
    "        ## save number of results for to use as offset\n",
    "        results = yelp.search_query(term=term, location=location,\n",
    "                                   offset=n_results)\n",
    "\n",
    "\n",
    "\n",
    "        ## use extend rather than append to store all \n",
    "        ## new results and save to file\n",
    "        prev_results.extend(results['businesses'])\n",
    "\n",
    "        with open(JSON_FILE,'w') as f:\n",
    "            json.dump(prev_results,f)\n",
    "\n",
    "            \n",
    "    ## What to do if we get an error/exception.\n",
    "    except Exception as e: # saving the error so we can print it.\n",
    "        print('[!] ERROR: ',e)\n"
   ]
  },
  {
   "cell_type": "markdown",
   "metadata": {},
   "source": [
    "## Open the Final JSON File with Pandas"
   ]
  },
  {
   "cell_type": "code",
   "execution_count": 35,
   "metadata": {},
   "outputs": [
    {
     "data": {
      "text/html": [
       "<div>\n",
       "<style scoped>\n",
       "    .dataframe tbody tr th:only-of-type {\n",
       "        vertical-align: middle;\n",
       "    }\n",
       "\n",
       "    .dataframe tbody tr th {\n",
       "        vertical-align: top;\n",
       "    }\n",
       "\n",
       "    .dataframe thead th {\n",
       "        text-align: right;\n",
       "    }\n",
       "</style>\n",
       "<table border=\"1\" class=\"dataframe\">\n",
       "  <thead>\n",
       "    <tr style=\"text-align: right;\">\n",
       "      <th></th>\n",
       "      <th>id</th>\n",
       "      <th>alias</th>\n",
       "      <th>name</th>\n",
       "      <th>image_url</th>\n",
       "      <th>is_closed</th>\n",
       "      <th>url</th>\n",
       "      <th>review_count</th>\n",
       "      <th>categories</th>\n",
       "      <th>rating</th>\n",
       "      <th>coordinates</th>\n",
       "      <th>transactions</th>\n",
       "      <th>location</th>\n",
       "      <th>phone</th>\n",
       "      <th>display_phone</th>\n",
       "      <th>distance</th>\n",
       "      <th>price</th>\n",
       "    </tr>\n",
       "  </thead>\n",
       "  <tbody>\n",
       "    <tr>\n",
       "      <th>0</th>\n",
       "      <td>J7XaREYBkIiRlK2rnHNDXQ</td>\n",
       "      <td>prince-street-pizza-los-angeles</td>\n",
       "      <td>Prince Street Pizza</td>\n",
       "      <td>https://s3-media1.fl.yelpcdn.com/bphoto/C9WMXJ...</td>\n",
       "      <td>False</td>\n",
       "      <td>https://www.yelp.com/biz/prince-street-pizza-l...</td>\n",
       "      <td>443</td>\n",
       "      <td>[{'alias': 'pizza', 'title': 'Pizza'}]</td>\n",
       "      <td>4.5</td>\n",
       "      <td>{'latitude': 34.04603290456726, 'longitude': -...</td>\n",
       "      <td>[]</td>\n",
       "      <td>{'address1': '827 E 3rd St', 'address2': '', '...</td>\n",
       "      <td>+12136007080</td>\n",
       "      <td>(213) 600-7080</td>\n",
       "      <td>2406.795708</td>\n",
       "      <td>NaN</td>\n",
       "    </tr>\n",
       "    <tr>\n",
       "      <th>1</th>\n",
       "      <td>AY8wsfDzLjW7PECps9_47g</td>\n",
       "      <td>pablito-s-pizza-los-angeles-2</td>\n",
       "      <td>Pablito’s pizza</td>\n",
       "      <td>https://s3-media1.fl.yelpcdn.com/bphoto/t-azZ3...</td>\n",
       "      <td>False</td>\n",
       "      <td>https://www.yelp.com/biz/pablito-s-pizza-los-a...</td>\n",
       "      <td>8</td>\n",
       "      <td>[{'alias': 'pizza', 'title': 'Pizza'}, {'alias...</td>\n",
       "      <td>5.0</td>\n",
       "      <td>{'latitude': 34.05953, 'longitude': -118.23786}</td>\n",
       "      <td>[]</td>\n",
       "      <td>{'address1': '686 N Spring St', 'address2': No...</td>\n",
       "      <td>+12133725898</td>\n",
       "      <td>(213) 372-5898</td>\n",
       "      <td>895.882565</td>\n",
       "      <td>NaN</td>\n",
       "    </tr>\n",
       "    <tr>\n",
       "      <th>2</th>\n",
       "      <td>T1RfgUMYKW3HD55SEJILbQ</td>\n",
       "      <td>braazo-pizza-los-angeles</td>\n",
       "      <td>Braazo Pizza</td>\n",
       "      <td>https://s3-media2.fl.yelpcdn.com/bphoto/xGepxZ...</td>\n",
       "      <td>False</td>\n",
       "      <td>https://www.yelp.com/biz/braazo-pizza-los-ange...</td>\n",
       "      <td>888</td>\n",
       "      <td>[{'alias': 'pizza', 'title': 'Pizza'}, {'alias...</td>\n",
       "      <td>4.5</td>\n",
       "      <td>{'latitude': 34.0438886, 'longitude': -118.251...</td>\n",
       "      <td>[delivery, pickup]</td>\n",
       "      <td>{'address1': '100 1/2 W 7th St', 'address2': '...</td>\n",
       "      <td>+12136223390</td>\n",
       "      <td>(213) 622-3390</td>\n",
       "      <td>2799.297179</td>\n",
       "      <td>$$</td>\n",
       "    </tr>\n",
       "    <tr>\n",
       "      <th>3</th>\n",
       "      <td>vNRmpcJzqBMK_piXswZZzg</td>\n",
       "      <td>quarter-sheets-pizza-club-los-angeles</td>\n",
       "      <td>Quarter Sheets Pizza Club</td>\n",
       "      <td>https://s3-media3.fl.yelpcdn.com/bphoto/DJuFR8...</td>\n",
       "      <td>False</td>\n",
       "      <td>https://www.yelp.com/biz/quarter-sheets-pizza-...</td>\n",
       "      <td>125</td>\n",
       "      <td>[{'alias': 'pizza', 'title': 'Pizza'}, {'alias...</td>\n",
       "      <td>4.5</td>\n",
       "      <td>{'latitude': 34.07572, 'longitude': -118.25436}</td>\n",
       "      <td>[]</td>\n",
       "      <td>{'address1': '1305 Portia St', 'address2': '',...</td>\n",
       "      <td></td>\n",
       "      <td></td>\n",
       "      <td>1601.626358</td>\n",
       "      <td>$$</td>\n",
       "    </tr>\n",
       "    <tr>\n",
       "      <th>4</th>\n",
       "      <td>cEKmsIDlKDtoGZhZV6zz-w</td>\n",
       "      <td>picasso-pie-wood-fire-pizza-los-angeles</td>\n",
       "      <td>Picasso Pie Wood Fire Pizza</td>\n",
       "      <td>https://s3-media4.fl.yelpcdn.com/bphoto/smr5OI...</td>\n",
       "      <td>False</td>\n",
       "      <td>https://www.yelp.com/biz/picasso-pie-wood-fire...</td>\n",
       "      <td>76</td>\n",
       "      <td>[{'alias': 'pizza', 'title': 'Pizza'}]</td>\n",
       "      <td>4.5</td>\n",
       "      <td>{'latitude': 34.06254, 'longitude': -118.24716}</td>\n",
       "      <td>[delivery, pickup]</td>\n",
       "      <td>{'address1': '505 N Figueroa St', 'address2': ...</td>\n",
       "      <td>+13103596969</td>\n",
       "      <td>(310) 359-6969</td>\n",
       "      <td>814.788633</td>\n",
       "      <td>$$</td>\n",
       "    </tr>\n",
       "  </tbody>\n",
       "</table>\n",
       "</div>"
      ],
      "text/plain": [
       "                       id                                    alias  \\\n",
       "0  J7XaREYBkIiRlK2rnHNDXQ          prince-street-pizza-los-angeles   \n",
       "1  AY8wsfDzLjW7PECps9_47g            pablito-s-pizza-los-angeles-2   \n",
       "2  T1RfgUMYKW3HD55SEJILbQ                 braazo-pizza-los-angeles   \n",
       "3  vNRmpcJzqBMK_piXswZZzg    quarter-sheets-pizza-club-los-angeles   \n",
       "4  cEKmsIDlKDtoGZhZV6zz-w  picasso-pie-wood-fire-pizza-los-angeles   \n",
       "\n",
       "                          name  \\\n",
       "0          Prince Street Pizza   \n",
       "1              Pablito’s pizza   \n",
       "2                 Braazo Pizza   \n",
       "3    Quarter Sheets Pizza Club   \n",
       "4  Picasso Pie Wood Fire Pizza   \n",
       "\n",
       "                                           image_url  is_closed  \\\n",
       "0  https://s3-media1.fl.yelpcdn.com/bphoto/C9WMXJ...      False   \n",
       "1  https://s3-media1.fl.yelpcdn.com/bphoto/t-azZ3...      False   \n",
       "2  https://s3-media2.fl.yelpcdn.com/bphoto/xGepxZ...      False   \n",
       "3  https://s3-media3.fl.yelpcdn.com/bphoto/DJuFR8...      False   \n",
       "4  https://s3-media4.fl.yelpcdn.com/bphoto/smr5OI...      False   \n",
       "\n",
       "                                                 url  review_count  \\\n",
       "0  https://www.yelp.com/biz/prince-street-pizza-l...           443   \n",
       "1  https://www.yelp.com/biz/pablito-s-pizza-los-a...             8   \n",
       "2  https://www.yelp.com/biz/braazo-pizza-los-ange...           888   \n",
       "3  https://www.yelp.com/biz/quarter-sheets-pizza-...           125   \n",
       "4  https://www.yelp.com/biz/picasso-pie-wood-fire...            76   \n",
       "\n",
       "                                          categories  rating  \\\n",
       "0             [{'alias': 'pizza', 'title': 'Pizza'}]     4.5   \n",
       "1  [{'alias': 'pizza', 'title': 'Pizza'}, {'alias...     5.0   \n",
       "2  [{'alias': 'pizza', 'title': 'Pizza'}, {'alias...     4.5   \n",
       "3  [{'alias': 'pizza', 'title': 'Pizza'}, {'alias...     4.5   \n",
       "4             [{'alias': 'pizza', 'title': 'Pizza'}]     4.5   \n",
       "\n",
       "                                         coordinates        transactions  \\\n",
       "0  {'latitude': 34.04603290456726, 'longitude': -...                  []   \n",
       "1    {'latitude': 34.05953, 'longitude': -118.23786}                  []   \n",
       "2  {'latitude': 34.0438886, 'longitude': -118.251...  [delivery, pickup]   \n",
       "3    {'latitude': 34.07572, 'longitude': -118.25436}                  []   \n",
       "4    {'latitude': 34.06254, 'longitude': -118.24716}  [delivery, pickup]   \n",
       "\n",
       "                                            location         phone  \\\n",
       "0  {'address1': '827 E 3rd St', 'address2': '', '...  +12136007080   \n",
       "1  {'address1': '686 N Spring St', 'address2': No...  +12133725898   \n",
       "2  {'address1': '100 1/2 W 7th St', 'address2': '...  +12136223390   \n",
       "3  {'address1': '1305 Portia St', 'address2': '',...                 \n",
       "4  {'address1': '505 N Figueroa St', 'address2': ...  +13103596969   \n",
       "\n",
       "    display_phone     distance price  \n",
       "0  (213) 600-7080  2406.795708   NaN  \n",
       "1  (213) 372-5898   895.882565   NaN  \n",
       "2  (213) 622-3390  2799.297179    $$  \n",
       "3                  1601.626358    $$  \n",
       "4  (310) 359-6969   814.788633    $$  "
      ]
     },
     "execution_count": 35,
     "metadata": {},
     "output_type": "execute_result"
    }
   ],
   "source": [
    "df = pd.read_json(JSON_FILE)\n",
    "df.head()"
   ]
  },
  {
   "cell_type": "code",
   "execution_count": 37,
   "metadata": {},
   "outputs": [
    {
     "data": {
      "text/plain": [
       "(528, 16)"
      ]
     },
     "execution_count": 37,
     "metadata": {},
     "output_type": "execute_result"
    }
   ],
   "source": [
    "df.shape"
   ]
  },
  {
   "cell_type": "code",
   "execution_count": 34,
   "metadata": {},
   "outputs": [
    {
     "data": {
      "text/plain": [
       "'Data/Los Angeles=pizza.csv.gz'"
      ]
     },
     "execution_count": 34,
     "metadata": {},
     "output_type": "execute_result"
    }
   ],
   "source": [
    "## convert the filename to a .csv.gz\n",
    "csv_file = JSON_FILE.replace('.json','.csv.gz')\n",
    "csv_file"
   ]
  },
  {
   "cell_type": "code",
   "execution_count": 38,
   "metadata": {},
   "outputs": [],
   "source": [
    "## Save it as a compressed csv (to save space)\n",
    "df.to_csv(csv_file, compression='gzip', index=False)"
   ]
  },
  {
   "cell_type": "markdown",
   "metadata": {},
   "source": [
    "## Bonus: compare filesize with os module's `os.path.getsize`"
   ]
  },
  {
   "cell_type": "code",
   "execution_count": 39,
   "metadata": {},
   "outputs": [
    {
     "name": "stdout",
     "output_type": "stream",
     "text": [
      "JSON FILE: 521,861 Bytes\n",
      "CSV.GZ FILE: 74,376 Bytes\n",
      "the csv.gz is 7.016524147574486 times smaller!\n"
     ]
    }
   ],
   "source": [
    "size_json = os.path.getsize(JSON_FILE)\n",
    "size_csv_gz = os.path.getsize(JSON_FILE.replace('.json','.csv.gz'))\n",
    "\n",
    "print(f'JSON FILE: {size_json:,} Bytes')\n",
    "print(f'CSV.GZ FILE: {size_csv_gz:,} Bytes')\n",
    "\n",
    "print(f'the csv.gz is {size_json/size_csv_gz} times smaller!')"
   ]
  },
  {
   "cell_type": "markdown",
   "metadata": {},
   "source": [
    "## Next Class: Processing the Results and Mapping "
   ]
  }
 ],
 "metadata": {
  "colab": {
   "collapsed_sections": [],
   "name": "Test Yelp API Package.ipynb",
   "provenance": []
  },
  "kernelspec": {
   "display_name": "Python (dojo-env)",
   "language": "python",
   "name": "dojo-env"
  },
  "language_info": {
   "codemirror_mode": {
    "name": "ipython",
    "version": 3
   },
   "file_extension": ".py",
   "mimetype": "text/x-python",
   "name": "python",
   "nbconvert_exporter": "python",
   "pygments_lexer": "ipython3",
   "version": "3.9.15"
  },
  "toc": {
   "base_numbering": 1,
   "nav_menu": {},
   "number_sections": false,
   "sideBar": true,
   "skip_h1_title": false,
   "title_cell": "Table of Contents",
   "title_sidebar": "Contents",
   "toc_cell": false,
   "toc_position": {},
   "toc_section_display": true,
   "toc_window_display": false
  }
 },
 "nbformat": 4,
 "nbformat_minor": 1
}
