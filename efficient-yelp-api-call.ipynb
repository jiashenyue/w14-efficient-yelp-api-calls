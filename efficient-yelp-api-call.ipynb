{
 "cells": [
  {
   "cell_type": "markdown",
   "metadata": {
    "id": "8guYh-VR7nlX"
   },
   "source": [
    "# Use efficient API extraction method to obtain data from Yelp API"
   ]
  },
  {
   "cell_type": "markdown",
   "metadata": {},
   "source": [
    "## Obective"
   ]
  },
  {
   "cell_type": "markdown",
   "metadata": {
    "id": "8guYh-VR7nlX"
   },
   "source": [
    "- Create a new file without accidentally erasing prior results.\n",
    "- Loop through a list of queries and save the results throughout the loop.\n",
    "- Use the tqdm library to make a progress bar to track the time remaining in a loop\n",
    "    "
   ]
  },
  {
   "cell_type": "markdown",
   "metadata": {},
   "source": [
    "### Applying Code From\n",
    "- Efficient API Calls Lesson Link: https://login.codingdojo.com/m/376/12529/88078"
   ]
  },
  {
   "cell_type": "code",
   "execution_count": 2,
   "metadata": {},
   "outputs": [],
   "source": [
    "# if Yelp API is not installed, run the following code\n",
    "# !pip install yelpapi"
   ]
  },
  {
   "cell_type": "code",
   "execution_count": 1,
   "metadata": {},
   "outputs": [],
   "source": [
    "# Standard Imports\n",
    "import numpy as np\n",
    "import pandas as pd\n",
    "import matplotlib.pyplot as plt\n",
    "import seaborn as sns\n",
    "\n",
    "# Additional Imports\n",
    "import os, json, math, time\n",
    "from yelpapi import YelpAPI\n",
    "from tqdm.notebook import tqdm_notebook"
   ]
  },
  {
   "cell_type": "markdown",
   "metadata": {
    "id": "1l3Z-79nBSX9"
   },
   "source": [
    "### Set up API credentials"
   ]
  },
  {
   "cell_type": "markdown",
   "metadata": {
    "id": "1l3Z-79nBSX9"
   },
   "source": [
    "\n",
    "- Yelp: https://www.yelp.com/developers/documentation/v3/get_started\n"
   ]
  },
  {
   "cell_type": "markdown",
   "metadata": {},
   "source": [
    "> Check the official API documentation to know what arguments we can search for: https://www.yelp.com/developers/documentation/v3/business_search"
   ]
  },
  {
   "cell_type": "markdown",
   "metadata": {},
   "source": [
    "### Load Credentials and Create Yelp API Object"
   ]
  },
  {
   "cell_type": "code",
   "execution_count": 3,
   "metadata": {
    "ExecuteTime": {
     "end_time": "2022-03-25T18:20:46.629934Z",
     "start_time": "2022-03-25T18:20:45.915864Z"
    },
    "colab": {
     "base_uri": "https://localhost:8080/"
    },
    "id": "xJYqVvNkE36a",
    "outputId": "67798160-dea2-41fc-9040-2b3833efa560"
   },
   "outputs": [],
   "source": [
    "# Load API Credentials\n",
    "with open('/Users/Shenyue/.secret/yelp.api.json','r') as f:\n",
    "    login = json.load(f)"
   ]
  },
  {
   "cell_type": "code",
   "execution_count": 4,
   "metadata": {},
   "outputs": [
    {
     "data": {
      "text/plain": [
       "dict_keys(['Client-ID', 'API Key'])"
      ]
     },
     "execution_count": 4,
     "metadata": {},
     "output_type": "execute_result"
    }
   ],
   "source": [
    "login.keys()"
   ]
  },
  {
   "cell_type": "code",
   "execution_count": 15,
   "metadata": {},
   "outputs": [],
   "source": [
    "# Instantiate YelpAPI Variable\n",
    "yelp_api = YelpAPI(login['API Key'], timeout_s = 5.0)"
   ]
  },
  {
   "cell_type": "markdown",
   "metadata": {},
   "source": [
    "### Define Search Terms and File Paths"
   ]
  },
  {
   "cell_type": "code",
   "execution_count": 17,
   "metadata": {},
   "outputs": [],
   "source": [
    "# set our API call parameters and filename before the first call\n",
    "LOCATION = 'Garden Grove, CA'\n",
    "TERM = 'Pho'"
   ]
  },
  {
   "cell_type": "code",
   "execution_count": 18,
   "metadata": {},
   "outputs": [
    {
     "data": {
      "text/plain": [
       "'Data/Garden Grove-Pho.json'"
      ]
     },
     "execution_count": 18,
     "metadata": {},
     "output_type": "execute_result"
    }
   ],
   "source": [
    "## Specify fodler for saving data\n",
    "FOLDER = 'Data/'\n",
    "os.makedirs(FOLDER,exist_ok = True)\n",
    "\n",
    "# Specifying JSON_FILE filename (can include a folder)\n",
    "JSON_FILE = FOLDER+f\"{LOCATION.split(',')[0]}-{TERM}.json\"\n",
    "JSON_FILE"
   ]
  },
  {
   "cell_type": "markdown",
   "metadata": {},
   "source": [
    "### Check if JSON File exists and Create it if it doesn't"
   ]
  },
  {
   "cell_type": "code",
   "execution_count": 19,
   "metadata": {},
   "outputs": [
    {
     "name": "stdout",
     "output_type": "stream",
     "text": [
      "[i] Data/Garden Grove-Pho.json already exists.\n"
     ]
    }
   ],
   "source": [
    "## Check if JSON_FILE exists\n",
    "file_exists = os.path.isfile(JSON_FILE)\n",
    "## If it does not exist: \n",
    "if file_exists == False:    \n",
    "    ## CREATE ANY NEEDED FOLDERS\n",
    "    # Get the Folder Name only\n",
    "    folder = os.path.dirname(JSON_FILE)\n",
    "    \n",
    "    ## If JSON_FILE included a folder:\n",
    "    if len(folder)>0:\n",
    "        # create the folder\n",
    "        os.makedirs(folder,exist_ok = True)\n",
    "        \n",
    "        \n",
    "    ## INFORM USER AND SAVE EMPTY LIST\n",
    "    print('')\n",
    "    \n",
    "    \n",
    "    ## save the first page of results\n",
    "    with open(JSON_FILE,'w') as f:\n",
    "        json.dump([],f)\n",
    "        \n",
    "## If it exists, inform user\n",
    "else:\n",
    "    print(f\"[i] {JSON_FILE} already exists.\")"
   ]
  },
  {
   "cell_type": "markdown",
   "metadata": {},
   "source": [
    "### Determine how many results are already in the file"
   ]
  },
  {
   "cell_type": "code",
   "execution_count": 61,
   "metadata": {},
   "outputs": [
    {
     "name": "stdout",
     "output_type": "stream",
     "text": [
      "- 866 previous results found.\n"
     ]
    }
   ],
   "source": [
    "## Load previous results and use len of results for offset\n",
    "with open(JSON_FILE,'r') as f:\n",
    "    previous_results = json.load(f)\n",
    "    \n",
    "## set offset based on previous results\n",
    "n_results = len(previous_results)\n",
    "print(f'- {n_results} previous results found.')"
   ]
  },
  {
   "cell_type": "markdown",
   "metadata": {},
   "source": [
    "### Figure out how many pages of results we will need\n",
    "\n",
    "- The API will return results by pages.\n",
    "- We will perform our first query to get our first page of results and the total number of results.\n",
    "- Then we will calculate how many pages we will need to retrieve all of our results so that we do not waste API requests."
   ]
  },
  {
   "cell_type": "code",
   "execution_count": 21,
   "metadata": {},
   "outputs": [
    {
     "data": {
      "text/plain": [
       "dict_keys(['businesses', 'total', 'region'])"
      ]
     },
     "execution_count": 21,
     "metadata": {},
     "output_type": "execute_result"
    }
   ],
   "source": [
    "# use our yelp_api variable's search_query method to perform our API call\n",
    "results = yelp_api.search_query(location=LOCATION,\n",
    "                                term=TERM,\n",
    "                               offset=n_results)\n",
    "results.keys()"
   ]
  },
  {
   "cell_type": "code",
   "execution_count": 22,
   "metadata": {},
   "outputs": [
    {
     "data": {
      "text/plain": [
       "866"
      ]
     },
     "execution_count": 22,
     "metadata": {},
     "output_type": "execute_result"
    }
   ],
   "source": [
    "## How many results total?\n",
    "total_results = results['total']\n",
    "total_results"
   ]
  },
  {
   "cell_type": "code",
   "execution_count": 23,
   "metadata": {},
   "outputs": [
    {
     "data": {
      "text/plain": [
       "20"
      ]
     },
     "execution_count": 23,
     "metadata": {},
     "output_type": "execute_result"
    }
   ],
   "source": [
    "## How many did we get the details for?\n",
    "results_per_page = len(results['businesses'])\n",
    "results_per_page"
   ]
  },
  {
   "cell_type": "markdown",
   "metadata": {},
   "source": [
    "- There are `866` businesses to retrieve from our API and we can get `20` results at a time (per \"page\").\n",
    "- We can calculate the total number of pages using the code block below\n",
    "  - We need to ***round up** the results to make sure we can get all results on the last page."
   ]
  },
  {
   "cell_type": "markdown",
   "metadata": {},
   "source": [
    "### Perform query and handle queries with > 1000 results\n",
    "\n",
    "- Sometimes we may obtain more than 1000 results from a query, which will cause an error like this below\n",
    "\n",
    "> YelpAPIError: VALIDATION_ERROR: Too many results requested, limit+offset must be <= 1000.\n",
    "\n",
    "- We can add an extra logic check to see if the length of results we have so far (`n_results`) + the number of results in each page (`results_per_page`) is greater than 1,000\n",
    "  - If yes, we will use break to end our loop early\n",
    "  \n",
    "- We also need a function to automatically delete existing JSON file if we set up to do so"
   ]
  },
  {
   "cell_type": "code",
   "execution_count": 53,
   "metadata": {},
   "outputs": [],
   "source": [
    "def create_json_file(JSON_FILE,  delete_if_exists=False):\n",
    "    \n",
    "    file_exists = os.path.isfile(JSON_FILE)\n",
    "    \n",
    "    if file_exists == True:\n",
    "        \n",
    "        if delete_if_exists == True:\n",
    "            \n",
    "            print(f\"[!] {JSON_FILE} already exists. Deleting previous file...\")\n",
    "            \n",
    "            os.remove(JSON_FILE)\n",
    "            \n",
    "            create_json_file(JSON_FILE, delete_if_exists = False)\n",
    "        else:\n",
    "            print(f\"[!] {JSON_FILE} aleady exists.\")\n",
    "    \n",
    "    else:\n",
    "        \n",
    "        print(f\"[i] {JSON_FILE} not found. Saving empty list to new file.\")\n",
    "        \n",
    "        folder = os.path.dirname(JSON_FILE)\n",
    "        \n",
    "        if len(folder)>0:\n",
    "            os.makedirs(folder, exist_ok = True)\n",
    "        \n",
    "        with open(JSON_FILE, 'w') as f:\n",
    "            json.dump"
   ]
  },
  {
   "cell_type": "markdown",
   "metadata": {},
   "source": [
    "- Use `create_json_file` function to create an empty file and handle duplicated files with `delete_if_exists = True`\n",
    "\n",
    "- Get `n_pages` to be used in the for loop to perform API calls"
   ]
  },
  {
   "cell_type": "code",
   "execution_count": 54,
   "metadata": {},
   "outputs": [
    {
     "name": "stdout",
     "output_type": "stream",
     "text": [
      "[i] Data/Garden Grove-Pho.json not found. Saving empty list to new file.\n",
      "- 0 previous results found.\n"
     ]
    },
    {
     "data": {
      "text/plain": [
       "44"
      ]
     },
     "execution_count": 54,
     "metadata": {},
     "output_type": "execute_result"
    }
   ],
   "source": [
    "## Create a new empty json file (exist the previous if it exists)\n",
    "create_json_file(JSON_FILE, delete_if_exists=True)\n",
    "## Load previous results and use len of results for offset\n",
    "with open(JSON_FILE,'r') as f:\n",
    "    previous_results = json.load(f)\n",
    "    \n",
    "## set offset based on previous results\n",
    "n_results = len(previous_results)\n",
    "print(f'- {n_results} previous results found.')\n",
    "# use our yelp_api variable's search_query method to perform our API call\n",
    "results = yelp_api.search_query(location=LOCATION,\n",
    "                                term=TERM,\n",
    "                               offset=n_results)\n",
    "## How many results total?\n",
    "total_results = results['total']\n",
    "## How many did we get the details for?\n",
    "results_per_page = len(results['businesses'])\n",
    "# Use math.ceil to round up for the total number of pages of results.\n",
    "n_pages = math.ceil((results['total']-n_results)/ results_per_page)\n",
    "n_pages\n"
   ]
  },
  {
   "cell_type": "markdown",
   "metadata": {},
   "source": [
    "- Use a for loop to perform API calls\n",
    "- Break the loop if returned results > 1000"
   ]
  },
  {
   "cell_type": "code",
   "execution_count": 56,
   "metadata": {},
   "outputs": [
    {
     "data": {
      "application/vnd.jupyter.widget-view+json": {
       "model_id": "ee327cb7dfc14ba3919fe7058ab88ddc",
       "version_major": 2,
       "version_minor": 0
      },
      "text/plain": [
       "  0%|          | 0/44 [00:00<?, ?it/s]"
      ]
     },
     "metadata": {},
     "output_type": "display_data"
    }
   ],
   "source": [
    "# use the loop to perform queries\n",
    "# if n_results + results_per_page > 1000, break the loop\n",
    "for i in tqdm_notebook( range(1,n_pages+1)):\n",
    "    \n",
    "    ## Read in results in progress file and check the length\n",
    "    with open(JSON_FILE, 'r') as f:\n",
    "        previous_results = json.load(f)\n",
    "    ## save number of results for to use as offset\n",
    "    n_results = len(previous_results)\n",
    "    \n",
    "    if (n_results + results_per_page) > 1000:\n",
    "        print('Exceeded 1000 api calls. Stopping loop.')\n",
    "        break\n",
    "    \n",
    "    ## use n_results as the OFFSET \n",
    "    results = yelp_api.search_query(location=LOCATION,\n",
    "                                    term=TERM, \n",
    "                                    offset=n_results)\n",
    "    \n",
    "    \n",
    "    \n",
    "    ## append new results and save to file\n",
    "    previous_results.extend(results['businesses'])\n",
    "    \n",
    "    # display(previous_results)\n",
    "    with open(JSON_FILE,'w') as f:\n",
    "        json.dump(previous_results,f)\n",
    "    \n",
    "    time.sleep(.2)"
   ]
  },
  {
   "cell_type": "markdown",
   "metadata": {},
   "source": [
    "### Convert `.JSON` to a dataframe"
   ]
  },
  {
   "cell_type": "code",
   "execution_count": 62,
   "metadata": {},
   "outputs": [
    {
     "data": {
      "text/html": [
       "<div>\n",
       "<style scoped>\n",
       "    .dataframe tbody tr th:only-of-type {\n",
       "        vertical-align: middle;\n",
       "    }\n",
       "\n",
       "    .dataframe tbody tr th {\n",
       "        vertical-align: top;\n",
       "    }\n",
       "\n",
       "    .dataframe thead th {\n",
       "        text-align: right;\n",
       "    }\n",
       "</style>\n",
       "<table border=\"1\" class=\"dataframe\">\n",
       "  <thead>\n",
       "    <tr style=\"text-align: right;\">\n",
       "      <th></th>\n",
       "      <th>id</th>\n",
       "      <th>alias</th>\n",
       "      <th>name</th>\n",
       "      <th>image_url</th>\n",
       "      <th>is_closed</th>\n",
       "      <th>url</th>\n",
       "      <th>review_count</th>\n",
       "      <th>categories</th>\n",
       "      <th>rating</th>\n",
       "      <th>coordinates</th>\n",
       "      <th>transactions</th>\n",
       "      <th>price</th>\n",
       "      <th>location</th>\n",
       "      <th>phone</th>\n",
       "      <th>display_phone</th>\n",
       "      <th>distance</th>\n",
       "    </tr>\n",
       "  </thead>\n",
       "  <tbody>\n",
       "    <tr>\n",
       "      <th>0</th>\n",
       "      <td>svgFm8Ybzq9D8vPPhWE38A</td>\n",
       "      <td>pho-79-restaurant-garden-grove</td>\n",
       "      <td>Pho 79 Restaurant</td>\n",
       "      <td>https://s3-media4.fl.yelpcdn.com/bphoto/6-3WUL...</td>\n",
       "      <td>False</td>\n",
       "      <td>https://www.yelp.com/biz/pho-79-restaurant-gar...</td>\n",
       "      <td>2972</td>\n",
       "      <td>[{'alias': 'vietnamese', 'title': 'Vietnamese'...</td>\n",
       "      <td>4.0</td>\n",
       "      <td>{'latitude': 33.752461, 'longitude': -117.95576}</td>\n",
       "      <td>[delivery]</td>\n",
       "      <td>$$</td>\n",
       "      <td>{'address1': '9941 Hazard Ave', 'address2': ''...</td>\n",
       "      <td>+17145312490</td>\n",
       "      <td>(714) 531-2490</td>\n",
       "      <td>2165.252785</td>\n",
       "    </tr>\n",
       "    <tr>\n",
       "      <th>1</th>\n",
       "      <td>7_lDdYuloowE2Jlav8PRnQ</td>\n",
       "      <td>pho-45-garden-grove</td>\n",
       "      <td>Pho 45</td>\n",
       "      <td>https://s3-media4.fl.yelpcdn.com/bphoto/GMKCMC...</td>\n",
       "      <td>False</td>\n",
       "      <td>https://www.yelp.com/biz/pho-45-garden-grove?a...</td>\n",
       "      <td>1809</td>\n",
       "      <td>[{'alias': 'vietnamese', 'title': 'Vietnamese'...</td>\n",
       "      <td>4.0</td>\n",
       "      <td>{'latitude': 33.7736410518458, 'longitude': -1...</td>\n",
       "      <td>[delivery]</td>\n",
       "      <td>$$</td>\n",
       "      <td>{'address1': '9240 Garden Grove Blvd', 'addres...</td>\n",
       "      <td>+17145379000</td>\n",
       "      <td>(714) 537-9000</td>\n",
       "      <td>590.587780</td>\n",
       "    </tr>\n",
       "    <tr>\n",
       "      <th>2</th>\n",
       "      <td>TT0Y5sxPE2R5l0Pv_VxbNQ</td>\n",
       "      <td>pho-redbo-garden-grove</td>\n",
       "      <td>Pho Redbo</td>\n",
       "      <td>https://s3-media3.fl.yelpcdn.com/bphoto/BE9BsO...</td>\n",
       "      <td>False</td>\n",
       "      <td>https://www.yelp.com/biz/pho-redbo-garden-grov...</td>\n",
       "      <td>823</td>\n",
       "      <td>[{'alias': 'vietnamese', 'title': 'Vietnamese'}]</td>\n",
       "      <td>4.5</td>\n",
       "      <td>{'latitude': 33.773975, 'longitude': -117.997094}</td>\n",
       "      <td>[pickup, restaurant_reservation, delivery]</td>\n",
       "      <td>$$</td>\n",
       "      <td>{'address1': '7725 Garden Grove Blvd', 'addres...</td>\n",
       "      <td>+17146224896</td>\n",
       "      <td>(714) 622-4896</td>\n",
       "      <td>2713.451559</td>\n",
       "    </tr>\n",
       "    <tr>\n",
       "      <th>3</th>\n",
       "      <td>jGlHGLneaPZ3vS5l0nRRXA</td>\n",
       "      <td>pho-kuroushi-garden-grove-2</td>\n",
       "      <td>Pho Kuroushi</td>\n",
       "      <td>https://s3-media3.fl.yelpcdn.com/bphoto/x6gPI4...</td>\n",
       "      <td>False</td>\n",
       "      <td>https://www.yelp.com/biz/pho-kuroushi-garden-g...</td>\n",
       "      <td>100</td>\n",
       "      <td>[{'alias': 'asianfusion', 'title': 'Asian Fusi...</td>\n",
       "      <td>5.0</td>\n",
       "      <td>{'latitude': 33.75325279398934, 'longitude': -...</td>\n",
       "      <td>[pickup, restaurant_reservation, delivery]</td>\n",
       "      <td>$$</td>\n",
       "      <td>{'address1': '14376 Brookhurst St', 'address2'...</td>\n",
       "      <td>+16579668984</td>\n",
       "      <td>(657) 966-8984</td>\n",
       "      <td>2173.135412</td>\n",
       "    </tr>\n",
       "    <tr>\n",
       "      <th>4</th>\n",
       "      <td>fAptoiXJxRK7KqaNsBAKTg</td>\n",
       "      <td>phoholic-westminster-2</td>\n",
       "      <td>PhoHolic</td>\n",
       "      <td>https://s3-media2.fl.yelpcdn.com/bphoto/dsdPDz...</td>\n",
       "      <td>False</td>\n",
       "      <td>https://www.yelp.com/biz/phoholic-westminster-...</td>\n",
       "      <td>1318</td>\n",
       "      <td>[{'alias': 'vietnamese', 'title': 'Vietnamese'...</td>\n",
       "      <td>4.0</td>\n",
       "      <td>{'latitude': 33.7457405317976, 'longitude': -1...</td>\n",
       "      <td>[delivery]</td>\n",
       "      <td>$$</td>\n",
       "      <td>{'address1': '14932 Bushard St', 'address2': '...</td>\n",
       "      <td>+17147338822</td>\n",
       "      <td>(714) 733-8822</td>\n",
       "      <td>2610.529220</td>\n",
       "    </tr>\n",
       "  </tbody>\n",
       "</table>\n",
       "</div>"
      ],
      "text/plain": [
       "                       id                           alias               name  \\\n",
       "0  svgFm8Ybzq9D8vPPhWE38A  pho-79-restaurant-garden-grove  Pho 79 Restaurant   \n",
       "1  7_lDdYuloowE2Jlav8PRnQ             pho-45-garden-grove             Pho 45   \n",
       "2  TT0Y5sxPE2R5l0Pv_VxbNQ          pho-redbo-garden-grove          Pho Redbo   \n",
       "3  jGlHGLneaPZ3vS5l0nRRXA     pho-kuroushi-garden-grove-2       Pho Kuroushi   \n",
       "4  fAptoiXJxRK7KqaNsBAKTg          phoholic-westminster-2           PhoHolic   \n",
       "\n",
       "                                           image_url  is_closed  \\\n",
       "0  https://s3-media4.fl.yelpcdn.com/bphoto/6-3WUL...      False   \n",
       "1  https://s3-media4.fl.yelpcdn.com/bphoto/GMKCMC...      False   \n",
       "2  https://s3-media3.fl.yelpcdn.com/bphoto/BE9BsO...      False   \n",
       "3  https://s3-media3.fl.yelpcdn.com/bphoto/x6gPI4...      False   \n",
       "4  https://s3-media2.fl.yelpcdn.com/bphoto/dsdPDz...      False   \n",
       "\n",
       "                                                 url  review_count  \\\n",
       "0  https://www.yelp.com/biz/pho-79-restaurant-gar...          2972   \n",
       "1  https://www.yelp.com/biz/pho-45-garden-grove?a...          1809   \n",
       "2  https://www.yelp.com/biz/pho-redbo-garden-grov...           823   \n",
       "3  https://www.yelp.com/biz/pho-kuroushi-garden-g...           100   \n",
       "4  https://www.yelp.com/biz/phoholic-westminster-...          1318   \n",
       "\n",
       "                                          categories  rating  \\\n",
       "0  [{'alias': 'vietnamese', 'title': 'Vietnamese'...     4.0   \n",
       "1  [{'alias': 'vietnamese', 'title': 'Vietnamese'...     4.0   \n",
       "2   [{'alias': 'vietnamese', 'title': 'Vietnamese'}]     4.5   \n",
       "3  [{'alias': 'asianfusion', 'title': 'Asian Fusi...     5.0   \n",
       "4  [{'alias': 'vietnamese', 'title': 'Vietnamese'...     4.0   \n",
       "\n",
       "                                         coordinates  \\\n",
       "0   {'latitude': 33.752461, 'longitude': -117.95576}   \n",
       "1  {'latitude': 33.7736410518458, 'longitude': -1...   \n",
       "2  {'latitude': 33.773975, 'longitude': -117.997094}   \n",
       "3  {'latitude': 33.75325279398934, 'longitude': -...   \n",
       "4  {'latitude': 33.7457405317976, 'longitude': -1...   \n",
       "\n",
       "                                 transactions price  \\\n",
       "0                                  [delivery]    $$   \n",
       "1                                  [delivery]    $$   \n",
       "2  [pickup, restaurant_reservation, delivery]    $$   \n",
       "3  [pickup, restaurant_reservation, delivery]    $$   \n",
       "4                                  [delivery]    $$   \n",
       "\n",
       "                                            location         phone  \\\n",
       "0  {'address1': '9941 Hazard Ave', 'address2': ''...  +17145312490   \n",
       "1  {'address1': '9240 Garden Grove Blvd', 'addres...  +17145379000   \n",
       "2  {'address1': '7725 Garden Grove Blvd', 'addres...  +17146224896   \n",
       "3  {'address1': '14376 Brookhurst St', 'address2'...  +16579668984   \n",
       "4  {'address1': '14932 Bushard St', 'address2': '...  +17147338822   \n",
       "\n",
       "    display_phone     distance  \n",
       "0  (714) 531-2490  2165.252785  \n",
       "1  (714) 537-9000   590.587780  \n",
       "2  (714) 622-4896  2713.451559  \n",
       "3  (657) 966-8984  2173.135412  \n",
       "4  (714) 733-8822  2610.529220  "
      ]
     },
     "metadata": {},
     "output_type": "display_data"
    },
    {
     "data": {
      "text/html": [
       "<div>\n",
       "<style scoped>\n",
       "    .dataframe tbody tr th:only-of-type {\n",
       "        vertical-align: middle;\n",
       "    }\n",
       "\n",
       "    .dataframe tbody tr th {\n",
       "        vertical-align: top;\n",
       "    }\n",
       "\n",
       "    .dataframe thead th {\n",
       "        text-align: right;\n",
       "    }\n",
       "</style>\n",
       "<table border=\"1\" class=\"dataframe\">\n",
       "  <thead>\n",
       "    <tr style=\"text-align: right;\">\n",
       "      <th></th>\n",
       "      <th>id</th>\n",
       "      <th>alias</th>\n",
       "      <th>name</th>\n",
       "      <th>image_url</th>\n",
       "      <th>is_closed</th>\n",
       "      <th>url</th>\n",
       "      <th>review_count</th>\n",
       "      <th>categories</th>\n",
       "      <th>rating</th>\n",
       "      <th>coordinates</th>\n",
       "      <th>transactions</th>\n",
       "      <th>price</th>\n",
       "      <th>location</th>\n",
       "      <th>phone</th>\n",
       "      <th>display_phone</th>\n",
       "      <th>distance</th>\n",
       "    </tr>\n",
       "  </thead>\n",
       "  <tbody>\n",
       "    <tr>\n",
       "      <th>861</th>\n",
       "      <td>8yt1y5WKfOdGK8n7QmdoLw</td>\n",
       "      <td>world-market-lakewood-2</td>\n",
       "      <td>World Market</td>\n",
       "      <td>https://s3-media3.fl.yelpcdn.com/bphoto/-1_b47...</td>\n",
       "      <td>False</td>\n",
       "      <td>https://www.yelp.com/biz/world-market-lakewood...</td>\n",
       "      <td>189</td>\n",
       "      <td>[{'alias': 'furniture', 'title': 'Furniture St...</td>\n",
       "      <td>4.0</td>\n",
       "      <td>{'latitude': 33.849438508453304, 'longitude': ...</td>\n",
       "      <td>[]</td>\n",
       "      <td>$$</td>\n",
       "      <td>{'address1': '5041 Lakewood Blvd', 'address2':...</td>\n",
       "      <td>+15626020031</td>\n",
       "      <td>(562) 602-0031</td>\n",
       "      <td>18513.387204</td>\n",
       "    </tr>\n",
       "    <tr>\n",
       "      <th>862</th>\n",
       "      <td>C_whtGAuGd7f6H9nmiQrog</td>\n",
       "      <td>h-mart-lakewood-lakewood</td>\n",
       "      <td>H Mart - Lakewood</td>\n",
       "      <td>https://s3-media2.fl.yelpcdn.com/bphoto/m2aBX3...</td>\n",
       "      <td>False</td>\n",
       "      <td>https://www.yelp.com/biz/h-mart-lakewood-lakew...</td>\n",
       "      <td>181</td>\n",
       "      <td>[{'alias': 'grocery', 'title': 'Grocery'}, {'a...</td>\n",
       "      <td>3.5</td>\n",
       "      <td>{'latitude': 33.8467014125716, 'longitude': -1...</td>\n",
       "      <td>[delivery]</td>\n",
       "      <td>$$</td>\n",
       "      <td>{'address1': '20137 Pioneer Blvd.', 'address2'...</td>\n",
       "      <td>+15623039810</td>\n",
       "      <td>(562) 303-9810</td>\n",
       "      <td>13645.745664</td>\n",
       "    </tr>\n",
       "    <tr>\n",
       "      <th>863</th>\n",
       "      <td>nE7T2od6Olz69b43qp5cNw</td>\n",
       "      <td>grocery-outlet-bargain-market-lakewood-3</td>\n",
       "      <td>Grocery Outlet Bargain Market</td>\n",
       "      <td>https://s3-media1.fl.yelpcdn.com/bphoto/MKV1SW...</td>\n",
       "      <td>False</td>\n",
       "      <td>https://www.yelp.com/biz/grocery-outlet-bargai...</td>\n",
       "      <td>76</td>\n",
       "      <td>[{'alias': 'grocery', 'title': 'Grocery'}, {'a...</td>\n",
       "      <td>3.0</td>\n",
       "      <td>{'latitude': 33.859024, 'longitude': -118.11855}</td>\n",
       "      <td>[]</td>\n",
       "      <td>$</td>\n",
       "      <td>{'address1': '5615 Woodruff Ave', 'address2': ...</td>\n",
       "      <td>+15629202900</td>\n",
       "      <td>(562) 920-2900</td>\n",
       "      <td>17114.097253</td>\n",
       "    </tr>\n",
       "    <tr>\n",
       "      <th>864</th>\n",
       "      <td>aGcbWDczc0b_hedHC-5pxQ</td>\n",
       "      <td>layer-cake-bakery-lcb-irvine-3</td>\n",
       "      <td>Layer Cake Bakery - LCB</td>\n",
       "      <td>https://s3-media2.fl.yelpcdn.com/bphoto/TvVHlC...</td>\n",
       "      <td>False</td>\n",
       "      <td>https://www.yelp.com/biz/layer-cake-bakery-lcb...</td>\n",
       "      <td>823</td>\n",
       "      <td>[{'alias': 'bakeries', 'title': 'Bakeries'}, {...</td>\n",
       "      <td>3.5</td>\n",
       "      <td>{'latitude': 33.681151, 'longitude': -117.804845}</td>\n",
       "      <td>[pickup, delivery]</td>\n",
       "      <td>$$</td>\n",
       "      <td>{'address1': '4250 Barranca Pkwy', 'address2':...</td>\n",
       "      <td>+19497860223</td>\n",
       "      <td>(949) 786-0223</td>\n",
       "      <td>18014.287660</td>\n",
       "    </tr>\n",
       "    <tr>\n",
       "      <th>865</th>\n",
       "      <td>PUeGfzWMVFtbJXLYXOA4xA</td>\n",
       "      <td>stater-bros-markets-tustin-3</td>\n",
       "      <td>Stater Bros. Markets</td>\n",
       "      <td>https://s3-media2.fl.yelpcdn.com/bphoto/8gk2cX...</td>\n",
       "      <td>False</td>\n",
       "      <td>https://www.yelp.com/biz/stater-bros-markets-t...</td>\n",
       "      <td>113</td>\n",
       "      <td>[{'alias': 'grocery', 'title': 'Grocery'}, {'a...</td>\n",
       "      <td>3.0</td>\n",
       "      <td>{'latitude': 33.7323158, 'longitude': -117.816...</td>\n",
       "      <td>[]</td>\n",
       "      <td>$</td>\n",
       "      <td>{'address1': '14171 Red Hill Ave', 'address2':...</td>\n",
       "      <td>+17145441812</td>\n",
       "      <td>(714) 544-1812</td>\n",
       "      <td>14591.443006</td>\n",
       "    </tr>\n",
       "  </tbody>\n",
       "</table>\n",
       "</div>"
      ],
      "text/plain": [
       "                         id                                     alias  \\\n",
       "861  8yt1y5WKfOdGK8n7QmdoLw                   world-market-lakewood-2   \n",
       "862  C_whtGAuGd7f6H9nmiQrog                  h-mart-lakewood-lakewood   \n",
       "863  nE7T2od6Olz69b43qp5cNw  grocery-outlet-bargain-market-lakewood-3   \n",
       "864  aGcbWDczc0b_hedHC-5pxQ            layer-cake-bakery-lcb-irvine-3   \n",
       "865  PUeGfzWMVFtbJXLYXOA4xA              stater-bros-markets-tustin-3   \n",
       "\n",
       "                              name  \\\n",
       "861                   World Market   \n",
       "862              H Mart - Lakewood   \n",
       "863  Grocery Outlet Bargain Market   \n",
       "864        Layer Cake Bakery - LCB   \n",
       "865           Stater Bros. Markets   \n",
       "\n",
       "                                             image_url  is_closed  \\\n",
       "861  https://s3-media3.fl.yelpcdn.com/bphoto/-1_b47...      False   \n",
       "862  https://s3-media2.fl.yelpcdn.com/bphoto/m2aBX3...      False   \n",
       "863  https://s3-media1.fl.yelpcdn.com/bphoto/MKV1SW...      False   \n",
       "864  https://s3-media2.fl.yelpcdn.com/bphoto/TvVHlC...      False   \n",
       "865  https://s3-media2.fl.yelpcdn.com/bphoto/8gk2cX...      False   \n",
       "\n",
       "                                                   url  review_count  \\\n",
       "861  https://www.yelp.com/biz/world-market-lakewood...           189   \n",
       "862  https://www.yelp.com/biz/h-mart-lakewood-lakew...           181   \n",
       "863  https://www.yelp.com/biz/grocery-outlet-bargai...            76   \n",
       "864  https://www.yelp.com/biz/layer-cake-bakery-lcb...           823   \n",
       "865  https://www.yelp.com/biz/stater-bros-markets-t...           113   \n",
       "\n",
       "                                            categories  rating  \\\n",
       "861  [{'alias': 'furniture', 'title': 'Furniture St...     4.0   \n",
       "862  [{'alias': 'grocery', 'title': 'Grocery'}, {'a...     3.5   \n",
       "863  [{'alias': 'grocery', 'title': 'Grocery'}, {'a...     3.0   \n",
       "864  [{'alias': 'bakeries', 'title': 'Bakeries'}, {...     3.5   \n",
       "865  [{'alias': 'grocery', 'title': 'Grocery'}, {'a...     3.0   \n",
       "\n",
       "                                           coordinates        transactions  \\\n",
       "861  {'latitude': 33.849438508453304, 'longitude': ...                  []   \n",
       "862  {'latitude': 33.8467014125716, 'longitude': -1...          [delivery]   \n",
       "863   {'latitude': 33.859024, 'longitude': -118.11855}                  []   \n",
       "864  {'latitude': 33.681151, 'longitude': -117.804845}  [pickup, delivery]   \n",
       "865  {'latitude': 33.7323158, 'longitude': -117.816...                  []   \n",
       "\n",
       "    price                                           location         phone  \\\n",
       "861    $$  {'address1': '5041 Lakewood Blvd', 'address2':...  +15626020031   \n",
       "862    $$  {'address1': '20137 Pioneer Blvd.', 'address2'...  +15623039810   \n",
       "863     $  {'address1': '5615 Woodruff Ave', 'address2': ...  +15629202900   \n",
       "864    $$  {'address1': '4250 Barranca Pkwy', 'address2':...  +19497860223   \n",
       "865     $  {'address1': '14171 Red Hill Ave', 'address2':...  +17145441812   \n",
       "\n",
       "      display_phone      distance  \n",
       "861  (562) 602-0031  18513.387204  \n",
       "862  (562) 303-9810  13645.745664  \n",
       "863  (562) 920-2900  17114.097253  \n",
       "864  (949) 786-0223  18014.287660  \n",
       "865  (714) 544-1812  14591.443006  "
      ]
     },
     "metadata": {},
     "output_type": "display_data"
    }
   ],
   "source": [
    "# load final results\n",
    "df = pd.read_json(JSON_FILE)\n",
    "display(df.head(), df.tail())"
   ]
  },
  {
   "cell_type": "markdown",
   "metadata": {},
   "source": [
    "### Check for duplicates"
   ]
  },
  {
   "cell_type": "code",
   "execution_count": 63,
   "metadata": {},
   "outputs": [
    {
     "data": {
      "text/plain": [
       "0"
      ]
     },
     "execution_count": 63,
     "metadata": {},
     "output_type": "execute_result"
    }
   ],
   "source": [
    "# check for duplicate ID's \n",
    "df.duplicated(subset='id').sum()"
   ]
  },
  {
   "cell_type": "code",
   "execution_count": 64,
   "metadata": {},
   "outputs": [
    {
     "data": {
      "text/plain": [
       "0"
      ]
     },
     "execution_count": 64,
     "metadata": {},
     "output_type": "execute_result"
    }
   ],
   "source": [
    "## Drop duplicate ids and confirm there are no more duplicates\n",
    "df = df.drop_duplicates(subset='id')\n",
    "df.duplicated(subset='id').sum()"
   ]
  },
  {
   "cell_type": "markdown",
   "metadata": {},
   "source": [
    "### Save the final dataframe to a CSV file"
   ]
  },
  {
   "cell_type": "code",
   "execution_count": 59,
   "metadata": {},
   "outputs": [
    {
     "data": {
      "text/plain": [
       "'Data/Garden Grove-Pho.csv.gz'"
      ]
     },
     "execution_count": 59,
     "metadata": {},
     "output_type": "execute_result"
    }
   ],
   "source": [
    "## convert the filename to a .csv.gz\n",
    "csv_file = JSON_FILE.replace('.json','.csv.gz')\n",
    "csv_file"
   ]
  },
  {
   "cell_type": "code",
   "execution_count": 60,
   "metadata": {},
   "outputs": [],
   "source": [
    "## Save it as a compressed csv (to save space)\n",
    "df.to_csv(csv_file, compression='gzip', index=False)"
   ]
  }
 ],
 "metadata": {
  "colab": {
   "collapsed_sections": [],
   "name": "Test Yelp API Package.ipynb",
   "provenance": []
  },
  "kernelspec": {
   "display_name": "Python (dojo-env)",
   "language": "python",
   "name": "dojo-env"
  },
  "language_info": {
   "codemirror_mode": {
    "name": "ipython",
    "version": 3
   },
   "file_extension": ".py",
   "mimetype": "text/x-python",
   "name": "python",
   "nbconvert_exporter": "python",
   "pygments_lexer": "ipython3",
   "version": "3.9.15"
  },
  "toc": {
   "base_numbering": 1,
   "nav_menu": {},
   "number_sections": false,
   "sideBar": true,
   "skip_h1_title": false,
   "title_cell": "Table of Contents",
   "title_sidebar": "Contents",
   "toc_cell": false,
   "toc_position": {},
   "toc_section_display": true,
   "toc_window_display": false
  }
 },
 "nbformat": 4,
 "nbformat_minor": 1
}
